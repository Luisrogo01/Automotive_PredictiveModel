{
  "cells": [
    {
      "cell_type": "markdown",
      "source": [
        "# **Predicitve Model to determine how many weeks it takes to sell a used car**\n",
        "Team members:\n",
        "\n",
        "*   Luis Valentin Rodriguez Gonzalez (luis_01@outlook.com)\n",
        "*   Arturo Mark Chura Noriega (arturo_markk@hotmail.com)\n",
        "\n",
        "\n",
        "\n"
      ],
      "metadata": {
        "id": "C_osdwnhLlse"
      },
      "id": "C_osdwnhLlse"
    },
    {
      "cell_type": "markdown",
      "source": [
        "## **I. Introduction**"
      ],
      "metadata": {
        "id": "AY_Gv28mpJWO"
      },
      "id": "AY_Gv28mpJWO"
    },
    {
      "cell_type": "markdown",
      "source": [
        "The porpose of this model is to predict in which week the car will be sold once it gets into the car shop center.\n",
        " \n",
        "Inside the Dataset we find the date the car was entered to the system and the last day it was seen in the car shop. We this information we can then calculate how many days/weeks it took to be sold."
      ],
      "metadata": {
        "id": "10CHD-LMeLUO"
      },
      "id": "10CHD-LMeLUO"
    },
    {
      "cell_type": "markdown",
      "source": [
        "## **II. Libraries and modules requirment**"
      ],
      "metadata": {
        "id": "CJHQ0qkhL_cf"
      },
      "id": "CJHQ0qkhL_cf"
    },
    {
      "cell_type": "markdown",
      "source": [
        "### a) Installation of libraries"
      ],
      "metadata": {
        "id": "74c7fxzbMIhP"
      },
      "id": "74c7fxzbMIhP"
    },
    {
      "cell_type": "code",
      "execution_count": null,
      "id": "c2841b09",
      "metadata": {
        "colab": {
          "base_uri": "https://localhost:8080/"
        },
        "id": "c2841b09",
        "outputId": "467d358b-f0b9-42bd-a9f6-58375580a253"
      },
      "outputs": [
        {
          "output_type": "stream",
          "name": "stdout",
          "text": [
            "Requirement already satisfied: pip in /usr/local/lib/python3.7/dist-packages (21.1.3)\n",
            "Collecting pip\n",
            "  Downloading pip-22.0.4-py3-none-any.whl (2.1 MB)\n",
            "\u001b[K     |████████████████████████████████| 2.1 MB 9.8 MB/s \n",
            "\u001b[?25hInstalling collected packages: pip\n",
            "\u001b[33m  WARNING: The scripts pip, pip3 and pip3.7 are installed in '/root/.local/bin' which is not on PATH.\n",
            "  Consider adding this directory to PATH or, if you prefer to suppress this warning, use --no-warn-script-location.\u001b[0m\n",
            "Successfully installed pip-22.0.4\n",
            "Requirement already satisfied: scikit-learn in /usr/local/lib/python3.7/dist-packages (1.0.2)\n",
            "Requirement already satisfied: numpy>=1.14.6 in /usr/local/lib/python3.7/dist-packages (from scikit-learn) (1.21.5)\n",
            "Requirement already satisfied: scipy>=1.1.0 in /usr/local/lib/python3.7/dist-packages (from scikit-learn) (1.4.1)\n",
            "Requirement already satisfied: threadpoolctl>=2.0.0 in /usr/local/lib/python3.7/dist-packages (from scikit-learn) (3.1.0)\n",
            "Requirement already satisfied: joblib>=0.11 in /usr/local/lib/python3.7/dist-packages (from scikit-learn) (1.1.0)\n",
            "\u001b[33mWARNING: Running pip as the 'root' user can result in broken permissions and conflicting behaviour with the system package manager. It is recommended to use a virtual environment instead: https://pip.pypa.io/warnings/venv\u001b[0m\u001b[33m\n",
            "\u001b[0mRequirement already satisfied: scipy in /usr/local/lib/python3.7/dist-packages (1.4.1)\n",
            "Collecting scipy\n",
            "  Downloading scipy-1.7.3-cp37-cp37m-manylinux_2_12_x86_64.manylinux2010_x86_64.whl (38.1 MB)\n",
            "\u001b[2K     \u001b[90m━━━━━━━━━━━━━━━━━━━━━━━━━━━━━━━━━━━━━━━━\u001b[0m \u001b[32m38.1/38.1 MB\u001b[0m \u001b[31m11.0 MB/s\u001b[0m eta \u001b[36m0:00:00\u001b[0m\n",
            "\u001b[?25hRequirement already satisfied: numpy<1.23.0,>=1.16.5 in /usr/local/lib/python3.7/dist-packages (from scipy) (1.21.5)\n",
            "Installing collected packages: scipy\n",
            "\u001b[31mERROR: pip's dependency resolver does not currently take into account all the packages that are installed. This behaviour is the source of the following dependency conflicts.\n",
            "albumentations 0.1.12 requires imgaug<0.2.7,>=0.2.5, but you have imgaug 0.2.9 which is incompatible.\u001b[0m\u001b[31m\n",
            "\u001b[0mSuccessfully installed scipy-1.7.3\n",
            "\u001b[33mWARNING: Running pip as the 'root' user can result in broken permissions and conflicting behaviour with the system package manager. It is recommended to use a virtual environment instead: https://pip.pypa.io/warnings/venv\u001b[0m\u001b[33m\n",
            "\u001b[0mRequirement already satisfied: xgboost in /usr/local/lib/python3.7/dist-packages (0.90)\n",
            "Collecting xgboost\n",
            "  Downloading xgboost-1.5.2-py3-none-manylinux2014_x86_64.whl (173.6 MB)\n",
            "\u001b[2K     \u001b[90m━━━━━━━━━━━━━━━━━━━━━━━━━━━━━━━━━━━━━━━\u001b[0m \u001b[32m173.6/173.6 MB\u001b[0m \u001b[31m5.1 MB/s\u001b[0m eta \u001b[36m0:00:00\u001b[0m\n",
            "\u001b[?25hRequirement already satisfied: scipy in /root/.local/lib/python3.7/site-packages (from xgboost) (1.7.3)\n",
            "Requirement already satisfied: numpy in /usr/local/lib/python3.7/dist-packages (from xgboost) (1.21.5)\n",
            "Installing collected packages: xgboost\n",
            "Successfully installed xgboost-1.5.2\n",
            "\u001b[33mWARNING: Running pip as the 'root' user can result in broken permissions and conflicting behaviour with the system package manager. It is recommended to use a virtual environment instead: https://pip.pypa.io/warnings/venv\u001b[0m\u001b[33m\n",
            "\u001b[0mRequirement already satisfied: imblearn in /usr/local/lib/python3.7/dist-packages (0.0)\n",
            "Requirement already satisfied: imbalanced-learn in /usr/local/lib/python3.7/dist-packages (from imblearn) (0.8.1)\n",
            "Requirement already satisfied: numpy>=1.13.3 in /usr/local/lib/python3.7/dist-packages (from imbalanced-learn->imblearn) (1.21.5)\n",
            "Requirement already satisfied: scipy>=0.19.1 in /root/.local/lib/python3.7/site-packages (from imbalanced-learn->imblearn) (1.7.3)\n",
            "Requirement already satisfied: joblib>=0.11 in /usr/local/lib/python3.7/dist-packages (from imbalanced-learn->imblearn) (1.1.0)\n",
            "Requirement already satisfied: scikit-learn>=0.24 in /usr/local/lib/python3.7/dist-packages (from imbalanced-learn->imblearn) (1.0.2)\n",
            "Requirement already satisfied: threadpoolctl>=2.0.0 in /usr/local/lib/python3.7/dist-packages (from scikit-learn>=0.24->imbalanced-learn->imblearn) (3.1.0)\n",
            "\u001b[33mWARNING: Running pip as the 'root' user can result in broken permissions and conflicting behaviour with the system package manager. It is recommended to use a virtual environment instead: https://pip.pypa.io/warnings/venv\u001b[0m\u001b[33m\n",
            "\u001b[0mRequirement already satisfied: seaborn in /usr/local/lib/python3.7/dist-packages (0.11.2)\n",
            "Requirement already satisfied: scipy>=1.0 in /root/.local/lib/python3.7/site-packages (from seaborn) (1.7.3)\n",
            "Requirement already satisfied: numpy>=1.15 in /usr/local/lib/python3.7/dist-packages (from seaborn) (1.21.5)\n",
            "Requirement already satisfied: pandas>=0.23 in /usr/local/lib/python3.7/dist-packages (from seaborn) (1.3.5)\n",
            "Requirement already satisfied: matplotlib>=2.2 in /usr/local/lib/python3.7/dist-packages (from seaborn) (3.2.2)\n",
            "Requirement already satisfied: cycler>=0.10 in /usr/local/lib/python3.7/dist-packages (from matplotlib>=2.2->seaborn) (0.11.0)\n",
            "Requirement already satisfied: python-dateutil>=2.1 in /usr/local/lib/python3.7/dist-packages (from matplotlib>=2.2->seaborn) (2.8.2)\n",
            "Requirement already satisfied: kiwisolver>=1.0.1 in /usr/local/lib/python3.7/dist-packages (from matplotlib>=2.2->seaborn) (1.4.0)\n",
            "Requirement already satisfied: pyparsing!=2.0.4,!=2.1.2,!=2.1.6,>=2.0.1 in /usr/local/lib/python3.7/dist-packages (from matplotlib>=2.2->seaborn) (3.0.7)\n",
            "Requirement already satisfied: pytz>=2017.3 in /usr/local/lib/python3.7/dist-packages (from pandas>=0.23->seaborn) (2018.9)\n",
            "Requirement already satisfied: typing-extensions in /usr/local/lib/python3.7/dist-packages (from kiwisolver>=1.0.1->matplotlib>=2.2->seaborn) (3.10.0.2)\n",
            "Requirement already satisfied: six>=1.5 in /usr/local/lib/python3.7/dist-packages (from python-dateutil>=2.1->matplotlib>=2.2->seaborn) (1.15.0)\n",
            "\u001b[33mWARNING: Running pip as the 'root' user can result in broken permissions and conflicting behaviour with the system package manager. It is recommended to use a virtual environment instead: https://pip.pypa.io/warnings/venv\u001b[0m\u001b[33m\n",
            "\u001b[0mRequirement already satisfied: imbalanced-learn in /usr/local/lib/python3.7/dist-packages (0.8.1)\n",
            "Collecting imbalanced-learn\n",
            "  Downloading imbalanced_learn-0.9.0-py3-none-any.whl (199 kB)\n",
            "\u001b[2K     \u001b[90m━━━━━━━━━━━━━━━━━━━━━━━━━━━━━━━━━━━━━━━\u001b[0m \u001b[32m199.1/199.1 KB\u001b[0m \u001b[31m7.7 MB/s\u001b[0m eta \u001b[36m0:00:00\u001b[0m\n",
            "\u001b[?25hRequirement already satisfied: threadpoolctl>=2.0.0 in /usr/local/lib/python3.7/dist-packages (from imbalanced-learn) (3.1.0)\n",
            "Requirement already satisfied: scipy>=1.1.0 in /root/.local/lib/python3.7/site-packages (from imbalanced-learn) (1.7.3)\n",
            "Requirement already satisfied: scikit-learn>=1.0.1 in /usr/local/lib/python3.7/dist-packages (from imbalanced-learn) (1.0.2)\n",
            "Requirement already satisfied: numpy>=1.14.6 in /usr/local/lib/python3.7/dist-packages (from imbalanced-learn) (1.21.5)\n",
            "Requirement already satisfied: joblib>=0.11 in /usr/local/lib/python3.7/dist-packages (from imbalanced-learn) (1.1.0)\n",
            "Installing collected packages: imbalanced-learn\n",
            "  Attempting uninstall: imbalanced-learn\n",
            "    Found existing installation: imbalanced-learn 0.8.1\n",
            "    Uninstalling imbalanced-learn-0.8.1:\n",
            "      Successfully uninstalled imbalanced-learn-0.8.1\n",
            "Successfully installed imbalanced-learn-0.9.0\n",
            "\u001b[33mWARNING: Running pip as the 'root' user can result in broken permissions and conflicting behaviour with the system package manager. It is recommended to use a virtual environment instead: https://pip.pypa.io/warnings/venv\u001b[0m\u001b[33m\n",
            "\u001b[0mDone\n"
          ]
        }
      ],
      "source": [
        "import warnings\n",
        "warnings.filterwarnings('ignore')\n",
        "!python -m pip install --upgrade --user pip\n",
        "\n",
        "# import warnings filter\n",
        "from warnings import simplefilter\n",
        "# ignore all future warnings\n",
        "simplefilter(action='ignore', category=FutureWarning)\n",
        "!pip install scikit-learn --upgrade --user\n",
        "!pip install scipy --upgrade --user\n",
        "!pip install xgboost --upgrade --user\n",
        "!pip install imblearn --upgrade --user\n",
        "!pip install seaborn --upgrade --user\n",
        "!pip install -U imbalanced-learn\n",
        "\n",
        "print(\"Done\")"
      ]
    },
    {
      "cell_type": "markdown",
      "source": [
        "### b) Modules importation"
      ],
      "metadata": {
        "id": "VqeTfSUTMST0"
      },
      "id": "VqeTfSUTMST0"
    },
    {
      "cell_type": "code",
      "execution_count": null,
      "id": "afbdf9ee",
      "metadata": {
        "colab": {
          "base_uri": "https://localhost:8080/"
        },
        "id": "afbdf9ee",
        "outputId": "6cdac10a-024b-4f41-bac8-e089bc8ec0ea"
      },
      "outputs": [
        {
          "output_type": "stream",
          "name": "stdout",
          "text": [
            "DONE\n"
          ]
        }
      ],
      "source": [
        "import xgboost as xgb\n",
        "from sklearn.metrics import mean_squared_error\n",
        "import numpy as np\n",
        "import pandas as pd\n",
        "import seaborn as sns \n",
        "import matplotlib.pyplot as plt\n",
        "from warnings import filterwarnings \n",
        "import imblearn\n",
        "from mpl_toolkits.mplot3d import Axes3D\n",
        "from sklearn import decomposition\n",
        "from datetime import date\n",
        "import math \n",
        "import io\n",
        "from google.colab import files\n",
        "from sklearn.preprocessing import LabelEncoder\n",
        "from sklearn.preprocessing import OneHotEncoder\n",
        "from sklearn.model_selection import train_test_split\n",
        "from sklearn import preprocessing\n",
        "from sklearn.preprocessing import StandardScaler\n",
        "from sklearn.model_selection import learning_curve\n",
        "from sklearn.ensemble import RandomForestClassifier\n",
        "from sklearn.neural_network import MLPClassifier\n",
        "from sklearn.metrics import confusion_matrix\n",
        "from imblearn.over_sampling import SMOTENC\n",
        "from sklearn.metrics import classification_report\n",
        "import xgboost as xgb\n",
        "# importing the required function\n",
        "from scipy.stats import chi2_contingency\n",
        "from sklearn.datasets import make_classification\n",
        "from sklearn.metrics import ConfusionMatrixDisplay\n",
        " \n",
        "print(\"DONE\")\n"
      ]
    },
    {
      "cell_type": "markdown",
      "id": "299e0c6f",
      "metadata": {
        "id": "299e0c6f"
      },
      "source": [
        "## **III. Data Exploration**\n",
        "\n",
        "Fist we have to import or upload the csv files which contains all the information"
      ]
    },
    {
      "cell_type": "code",
      "source": [
        "uploaded = files.upload()"
      ],
      "metadata": {
        "colab": {
          "resources": {
            "http://localhost:8080/nbextensions/google.colab/files.js": {
              "data": "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",
              "ok": true,
              "headers": [
                [
                  "content-type",
                  "application/javascript"
                ]
              ],
              "status": 200,
              "status_text": ""
            }
          },
          "base_uri": "https://localhost:8080/",
          "height": 73
        },
        "id": "TZ0zV_sy7j3Q",
        "outputId": "b6ece150-8750-43f1-a0ae-1a4e32790e19"
      },
      "id": "TZ0zV_sy7j3Q",
      "execution_count": null,
      "outputs": [
        {
          "output_type": "display_data",
          "data": {
            "text/plain": [
              "<IPython.core.display.HTML object>"
            ],
            "text/html": [
              "\n",
              "     <input type=\"file\" id=\"files-2714a487-0f04-48ea-b798-9c403ace128a\" name=\"files[]\" multiple disabled\n",
              "        style=\"border:none\" />\n",
              "     <output id=\"result-2714a487-0f04-48ea-b798-9c403ace128a\">\n",
              "      Upload widget is only available when the cell has been executed in the\n",
              "      current browser session. Please rerun this cell to enable.\n",
              "      </output>\n",
              "      <script src=\"/nbextensions/google.colab/files.js\"></script> "
            ]
          },
          "metadata": {}
        },
        {
          "output_type": "stream",
          "name": "stdout",
          "text": [
            "Saving Automotive_1.csv to Automotive_1.csv\n"
          ]
        }
      ]
    },
    {
      "cell_type": "markdown",
      "id": "2551e7f2",
      "metadata": {
        "id": "2551e7f2"
      },
      "source": [
        "### a) Information of the given dataset\n",
        "\n",
        "In this section we found there are features with null values"
      ]
    },
    {
      "cell_type": "code",
      "execution_count": null,
      "id": "bddabca9",
      "metadata": {
        "colab": {
          "base_uri": "https://localhost:8080/"
        },
        "id": "bddabca9",
        "outputId": "8c1703ab-8e8b-4fa3-c11c-502d16df3574"
      },
      "outputs": [
        {
          "output_type": "stream",
          "name": "stdout",
          "text": [
            "<class 'pandas.core.frame.DataFrame'>\n",
            "RangeIndex: 200000 entries, 0 to 199999\n",
            "Data columns (total 20 columns):\n",
            " #   Column               Non-Null Count   Dtype \n",
            "---  ------               --------------   ----- \n",
            " 0   datecrawled          200000 non-null  object\n",
            " 1   name                 200000 non-null  object\n",
            " 2   seller               200000 non-null  object\n",
            " 3   offertype            200000 non-null  object\n",
            " 4   price                200000 non-null  object\n",
            " 5   abtest               199986 non-null  object\n",
            " 6   vehicletype          179636 non-null  object\n",
            " 7   yearofregistration   199990 non-null  object\n",
            " 8   gearbox              189161 non-null  object\n",
            " 9   powerps              199992 non-null  object\n",
            " 10  model                188891 non-null  object\n",
            " 11  kilometer            200000 non-null  int64 \n",
            " 12  monthofregistration  199990 non-null  object\n",
            " 13  fueltype             181927 non-null  object\n",
            " 14  brand                199943 non-null  object\n",
            " 15  notrepaireddamage    161206 non-null  object\n",
            " 16  datecreated          200000 non-null  object\n",
            " 17  nrofpictures         200000 non-null  object\n",
            " 18  postalcode           200000 non-null  object\n",
            " 19  lastseen             199830 non-null  object\n",
            "dtypes: int64(1), object(19)\n",
            "memory usage: 30.5+ MB\n"
          ]
        }
      ],
      "source": [
        "# Merging csv files\n",
        "df = pd.read_csv(io.BytesIO(uploaded[\"Automotive_1.csv\"]))\n",
        "\n",
        "# Information of our Dataset\n",
        "df.info()"
      ]
    },
    {
      "cell_type": "markdown",
      "source": [
        "Showing some entries of the original Data set"
      ],
      "metadata": {
        "id": "DPAlAVFHlAdy"
      },
      "id": "DPAlAVFHlAdy"
    },
    {
      "cell_type": "code",
      "source": [
        "df.head()"
      ],
      "metadata": {
        "id": "9zRlCvAUH2SU",
        "colab": {
          "base_uri": "https://localhost:8080/",
          "height": 357
        },
        "outputId": "501772cb-9bd1-4e71-db8d-3862df4ba081"
      },
      "id": "9zRlCvAUH2SU",
      "execution_count": null,
      "outputs": [
        {
          "output_type": "execute_result",
          "data": {
            "text/plain": [
              "           datecrawled                            name  seller offertype  \\\n",
              "0  2016-03-24T11:52:17                      Golf_3_1.6  privat   Angebot   \n",
              "1  2016-03-24T10:58:45            A5_Sportback_2.7_Tdi  privat   Angebot   \n",
              "2  2016-03-14T12:52:21  Jeep_Grand_Cherokee_\"Overland\"  privat   Angebot   \n",
              "3  2016-03-17T16:54:04               GOLF_4_1_4__3T?ER  privat   Angebot   \n",
              "4  2016-03-31T17:25:20  Skoda_Fabia_1.4_TDI_PD_Classic  privat   Angebot   \n",
              "\n",
              "   price abtest vehicletype yearofregistration    gearbox powerps  model  \\\n",
              "0    480   test         NaN               1993     manual       0   golf   \n",
              "1  18300   test       coupe               2011     manual     190    NaN   \n",
              "2   9800   test         suv               2004  automatik     163  grand   \n",
              "3   1500   test  kleinwagen               2001     manual      75   golf   \n",
              "4   3600   test  kleinwagen               2008     manual      69  fabia   \n",
              "\n",
              "   kilometer monthofregistration fueltype       brand notrepaireddamage  \\\n",
              "0     150000                   0   benzin  volkswagen               NaN   \n",
              "1     125000                   5   diesel        audi               yes   \n",
              "2     125000                   8   diesel        jeep               NaN   \n",
              "3     150000                   6   benzin  volkswagen                no   \n",
              "4      90000                   7   diesel       skoda                no   \n",
              "\n",
              "           datecreated nrofpictures postalcode             lastseen  \n",
              "0  2016-03-24T00:00:00        FALSE      70435  2016-04-07T03:16:57  \n",
              "1  2016-03-24T00:00:00        FALSE      66954  2016-04-07T01:46:50  \n",
              "2  2016-03-14T00:00:00        FALSE      90480  2016-04-05T12:47:46  \n",
              "3  2016-03-17T00:00:00        FALSE      91074  2016-03-17T17:40:17  \n",
              "4  2016-03-31T00:00:00        FALSE      60437  2016-04-06T10:17:21  "
            ],
            "text/html": [
              "\n",
              "  <div id=\"df-4e73eb95-57fa-4cb7-a589-42aee3ff8384\">\n",
              "    <div class=\"colab-df-container\">\n",
              "      <div>\n",
              "<style scoped>\n",
              "    .dataframe tbody tr th:only-of-type {\n",
              "        vertical-align: middle;\n",
              "    }\n",
              "\n",
              "    .dataframe tbody tr th {\n",
              "        vertical-align: top;\n",
              "    }\n",
              "\n",
              "    .dataframe thead th {\n",
              "        text-align: right;\n",
              "    }\n",
              "</style>\n",
              "<table border=\"1\" class=\"dataframe\">\n",
              "  <thead>\n",
              "    <tr style=\"text-align: right;\">\n",
              "      <th></th>\n",
              "      <th>datecrawled</th>\n",
              "      <th>name</th>\n",
              "      <th>seller</th>\n",
              "      <th>offertype</th>\n",
              "      <th>price</th>\n",
              "      <th>abtest</th>\n",
              "      <th>vehicletype</th>\n",
              "      <th>yearofregistration</th>\n",
              "      <th>gearbox</th>\n",
              "      <th>powerps</th>\n",
              "      <th>model</th>\n",
              "      <th>kilometer</th>\n",
              "      <th>monthofregistration</th>\n",
              "      <th>fueltype</th>\n",
              "      <th>brand</th>\n",
              "      <th>notrepaireddamage</th>\n",
              "      <th>datecreated</th>\n",
              "      <th>nrofpictures</th>\n",
              "      <th>postalcode</th>\n",
              "      <th>lastseen</th>\n",
              "    </tr>\n",
              "  </thead>\n",
              "  <tbody>\n",
              "    <tr>\n",
              "      <th>0</th>\n",
              "      <td>2016-03-24T11:52:17</td>\n",
              "      <td>Golf_3_1.6</td>\n",
              "      <td>privat</td>\n",
              "      <td>Angebot</td>\n",
              "      <td>480</td>\n",
              "      <td>test</td>\n",
              "      <td>NaN</td>\n",
              "      <td>1993</td>\n",
              "      <td>manual</td>\n",
              "      <td>0</td>\n",
              "      <td>golf</td>\n",
              "      <td>150000</td>\n",
              "      <td>0</td>\n",
              "      <td>benzin</td>\n",
              "      <td>volkswagen</td>\n",
              "      <td>NaN</td>\n",
              "      <td>2016-03-24T00:00:00</td>\n",
              "      <td>FALSE</td>\n",
              "      <td>70435</td>\n",
              "      <td>2016-04-07T03:16:57</td>\n",
              "    </tr>\n",
              "    <tr>\n",
              "      <th>1</th>\n",
              "      <td>2016-03-24T10:58:45</td>\n",
              "      <td>A5_Sportback_2.7_Tdi</td>\n",
              "      <td>privat</td>\n",
              "      <td>Angebot</td>\n",
              "      <td>18300</td>\n",
              "      <td>test</td>\n",
              "      <td>coupe</td>\n",
              "      <td>2011</td>\n",
              "      <td>manual</td>\n",
              "      <td>190</td>\n",
              "      <td>NaN</td>\n",
              "      <td>125000</td>\n",
              "      <td>5</td>\n",
              "      <td>diesel</td>\n",
              "      <td>audi</td>\n",
              "      <td>yes</td>\n",
              "      <td>2016-03-24T00:00:00</td>\n",
              "      <td>FALSE</td>\n",
              "      <td>66954</td>\n",
              "      <td>2016-04-07T01:46:50</td>\n",
              "    </tr>\n",
              "    <tr>\n",
              "      <th>2</th>\n",
              "      <td>2016-03-14T12:52:21</td>\n",
              "      <td>Jeep_Grand_Cherokee_\"Overland\"</td>\n",
              "      <td>privat</td>\n",
              "      <td>Angebot</td>\n",
              "      <td>9800</td>\n",
              "      <td>test</td>\n",
              "      <td>suv</td>\n",
              "      <td>2004</td>\n",
              "      <td>automatik</td>\n",
              "      <td>163</td>\n",
              "      <td>grand</td>\n",
              "      <td>125000</td>\n",
              "      <td>8</td>\n",
              "      <td>diesel</td>\n",
              "      <td>jeep</td>\n",
              "      <td>NaN</td>\n",
              "      <td>2016-03-14T00:00:00</td>\n",
              "      <td>FALSE</td>\n",
              "      <td>90480</td>\n",
              "      <td>2016-04-05T12:47:46</td>\n",
              "    </tr>\n",
              "    <tr>\n",
              "      <th>3</th>\n",
              "      <td>2016-03-17T16:54:04</td>\n",
              "      <td>GOLF_4_1_4__3T?ER</td>\n",
              "      <td>privat</td>\n",
              "      <td>Angebot</td>\n",
              "      <td>1500</td>\n",
              "      <td>test</td>\n",
              "      <td>kleinwagen</td>\n",
              "      <td>2001</td>\n",
              "      <td>manual</td>\n",
              "      <td>75</td>\n",
              "      <td>golf</td>\n",
              "      <td>150000</td>\n",
              "      <td>6</td>\n",
              "      <td>benzin</td>\n",
              "      <td>volkswagen</td>\n",
              "      <td>no</td>\n",
              "      <td>2016-03-17T00:00:00</td>\n",
              "      <td>FALSE</td>\n",
              "      <td>91074</td>\n",
              "      <td>2016-03-17T17:40:17</td>\n",
              "    </tr>\n",
              "    <tr>\n",
              "      <th>4</th>\n",
              "      <td>2016-03-31T17:25:20</td>\n",
              "      <td>Skoda_Fabia_1.4_TDI_PD_Classic</td>\n",
              "      <td>privat</td>\n",
              "      <td>Angebot</td>\n",
              "      <td>3600</td>\n",
              "      <td>test</td>\n",
              "      <td>kleinwagen</td>\n",
              "      <td>2008</td>\n",
              "      <td>manual</td>\n",
              "      <td>69</td>\n",
              "      <td>fabia</td>\n",
              "      <td>90000</td>\n",
              "      <td>7</td>\n",
              "      <td>diesel</td>\n",
              "      <td>skoda</td>\n",
              "      <td>no</td>\n",
              "      <td>2016-03-31T00:00:00</td>\n",
              "      <td>FALSE</td>\n",
              "      <td>60437</td>\n",
              "      <td>2016-04-06T10:17:21</td>\n",
              "    </tr>\n",
              "  </tbody>\n",
              "</table>\n",
              "</div>\n",
              "      <button class=\"colab-df-convert\" onclick=\"convertToInteractive('df-4e73eb95-57fa-4cb7-a589-42aee3ff8384')\"\n",
              "              title=\"Convert this dataframe to an interactive table.\"\n",
              "              style=\"display:none;\">\n",
              "        \n",
              "  <svg xmlns=\"http://www.w3.org/2000/svg\" height=\"24px\"viewBox=\"0 0 24 24\"\n",
              "       width=\"24px\">\n",
              "    <path d=\"M0 0h24v24H0V0z\" fill=\"none\"/>\n",
              "    <path d=\"M18.56 5.44l.94 2.06.94-2.06 2.06-.94-2.06-.94-.94-2.06-.94 2.06-2.06.94zm-11 1L8.5 8.5l.94-2.06 2.06-.94-2.06-.94L8.5 2.5l-.94 2.06-2.06.94zm10 10l.94 2.06.94-2.06 2.06-.94-2.06-.94-.94-2.06-.94 2.06-2.06.94z\"/><path d=\"M17.41 7.96l-1.37-1.37c-.4-.4-.92-.59-1.43-.59-.52 0-1.04.2-1.43.59L10.3 9.45l-7.72 7.72c-.78.78-.78 2.05 0 2.83L4 21.41c.39.39.9.59 1.41.59.51 0 1.02-.2 1.41-.59l7.78-7.78 2.81-2.81c.8-.78.8-2.07 0-2.86zM5.41 20L4 18.59l7.72-7.72 1.47 1.35L5.41 20z\"/>\n",
              "  </svg>\n",
              "      </button>\n",
              "      \n",
              "  <style>\n",
              "    .colab-df-container {\n",
              "      display:flex;\n",
              "      flex-wrap:wrap;\n",
              "      gap: 12px;\n",
              "    }\n",
              "\n",
              "    .colab-df-convert {\n",
              "      background-color: #E8F0FE;\n",
              "      border: none;\n",
              "      border-radius: 50%;\n",
              "      cursor: pointer;\n",
              "      display: none;\n",
              "      fill: #1967D2;\n",
              "      height: 32px;\n",
              "      padding: 0 0 0 0;\n",
              "      width: 32px;\n",
              "    }\n",
              "\n",
              "    .colab-df-convert:hover {\n",
              "      background-color: #E2EBFA;\n",
              "      box-shadow: 0px 1px 2px rgba(60, 64, 67, 0.3), 0px 1px 3px 1px rgba(60, 64, 67, 0.15);\n",
              "      fill: #174EA6;\n",
              "    }\n",
              "\n",
              "    [theme=dark] .colab-df-convert {\n",
              "      background-color: #3B4455;\n",
              "      fill: #D2E3FC;\n",
              "    }\n",
              "\n",
              "    [theme=dark] .colab-df-convert:hover {\n",
              "      background-color: #434B5C;\n",
              "      box-shadow: 0px 1px 3px 1px rgba(0, 0, 0, 0.15);\n",
              "      filter: drop-shadow(0px 1px 2px rgba(0, 0, 0, 0.3));\n",
              "      fill: #FFFFFF;\n",
              "    }\n",
              "  </style>\n",
              "\n",
              "      <script>\n",
              "        const buttonEl =\n",
              "          document.querySelector('#df-4e73eb95-57fa-4cb7-a589-42aee3ff8384 button.colab-df-convert');\n",
              "        buttonEl.style.display =\n",
              "          google.colab.kernel.accessAllowed ? 'block' : 'none';\n",
              "\n",
              "        async function convertToInteractive(key) {\n",
              "          const element = document.querySelector('#df-4e73eb95-57fa-4cb7-a589-42aee3ff8384');\n",
              "          const dataTable =\n",
              "            await google.colab.kernel.invokeFunction('convertToInteractive',\n",
              "                                                     [key], {});\n",
              "          if (!dataTable) return;\n",
              "\n",
              "          const docLinkHtml = 'Like what you see? Visit the ' +\n",
              "            '<a target=\"_blank\" href=https://colab.research.google.com/notebooks/data_table.ipynb>data table notebook</a>'\n",
              "            + ' to learn more about interactive tables.';\n",
              "          element.innerHTML = '';\n",
              "          dataTable['output_type'] = 'display_data';\n",
              "          await google.colab.output.renderOutput(dataTable, element);\n",
              "          const docLink = document.createElement('div');\n",
              "          docLink.innerHTML = docLinkHtml;\n",
              "          element.appendChild(docLink);\n",
              "        }\n",
              "      </script>\n",
              "    </div>\n",
              "  </div>\n",
              "  "
            ]
          },
          "metadata": {},
          "execution_count": 4
        }
      ]
    },
    {
      "cell_type": "markdown",
      "source": [
        "### b) Conversion of object data type to numerical\n",
        "\n",
        "We also elimindate all the rows where the column \n",
        "\"price\" have values of \"test\" or \"control\""
      ],
      "metadata": {
        "id": "2BNfTBwamVPu"
      },
      "id": "2BNfTBwamVPu"
    },
    {
      "cell_type": "code",
      "source": [
        "# Converting\n",
        "df = df[df.price != 'test']\n",
        "df = df[df.price != 'control']\n",
        "df[\"price\"] = df[\"price\"].astype(float).fillna(0.0)\n",
        "df[\"yearofregistration\"] = df[\"yearofregistration\"].astype(str).astype(int)\n",
        "df[\"monthofregistration\"] = df[\"monthofregistration\"].astype(str).astype(int)\n",
        "df[\"powerps\"] = df[\"powerps\"].astype(str).astype(int)\n",
        "df[\"postalcode\"] = df[\"postalcode\"].astype(str).astype(int)\n"
      ],
      "metadata": {
        "id": "doqr6ESamcKz"
      },
      "id": "doqr6ESamcKz",
      "execution_count": null,
      "outputs": []
    },
    {
      "cell_type": "markdown",
      "source": [
        "### c) Conversion of object data type to date\n",
        "\n",
        "We also elimindate all the rows where the column \n",
        "\"datecreated\" have values of \"FALSE\""
      ],
      "metadata": {
        "id": "5KgbG7mMncNs"
      },
      "id": "5KgbG7mMncNs"
    },
    {
      "cell_type": "code",
      "source": [
        "# Converting \n",
        "df['lastseen'] = pd.to_datetime(df['lastseen']).dt.date\n",
        "df['datecrawled'] = pd.to_datetime(df['datecrawled']).dt.date\n",
        "df = df[df.datecreated != 'FALSE']\n",
        "df['datecreated'] = pd.to_datetime(df['datecreated']).dt.date\n",
        "\n",
        "df['lastseen'] = pd.to_datetime(df['lastseen'])\n",
        "df['datecrawled'] = pd.to_datetime(df['datecrawled'])\n",
        "df['datecreated'] = pd.to_datetime(df['datecreated'])"
      ],
      "metadata": {
        "id": "otnGvYdJnhQb"
      },
      "id": "otnGvYdJnhQb",
      "execution_count": null,
      "outputs": []
    },
    {
      "cell_type": "markdown",
      "source": [
        "### d) Adding a new calculated column \n",
        "We want to know how many weeks it takes to sell the car. This is going to be our Target value"
      ],
      "metadata": {
        "id": "54tCm1TnfmI3"
      },
      "id": "54tCm1TnfmI3"
    },
    {
      "cell_type": "code",
      "source": [
        "# Check which is the last day\n",
        "lastday = df['lastseen'].max()\n",
        "# Compute how many days it takes to be sold\n",
        "df['days_to_sell'] = (lastday - df['lastseen']).dt.days\n",
        "\n",
        "# Function for categorization\n",
        "def calculate_weeks(row):\n",
        "  if row['days_to_sell'] == 0:\n",
        "    return 'Remained'\n",
        "  elif 0 < row['days_to_sell'] < 8:\n",
        "    return '1 week'\n",
        "  elif 7 < row['days_to_sell'] < 15:\n",
        "    return '2 weeks'\n",
        "  elif 14 < row['days_to_sell'] < 22:\n",
        "    return '3 weeks'\n",
        "  elif 21 < row['days_to_sell'] < 29:\n",
        "    return '4 weeks'\n",
        "  else:\n",
        "    return 'more than 4 weeks'\n",
        "\n",
        "# Apply function to a new calculated column\n",
        "df['weeks_to_sell'] = df.apply(calculate_weeks, axis=1)\n",
        "\n",
        "# Eliminate all the rows where the car is still remained in the car shop. It doesn't provide information to the model\n",
        "df = df[df.days_to_sell != 0]\n",
        "\n",
        "df.head()"
      ],
      "metadata": {
        "colab": {
          "base_uri": "https://localhost:8080/",
          "height": 386
        },
        "id": "GeO7tRknNfg4",
        "outputId": "02346352-69b5-4d01-b74b-06ff796fac5a"
      },
      "id": "GeO7tRknNfg4",
      "execution_count": null,
      "outputs": [
        {
          "output_type": "execute_result",
          "data": {
            "text/plain": [
              "  datecrawled                                               name  seller  \\\n",
              "2  2016-03-14                     Jeep_Grand_Cherokee_\"Overland\"  privat   \n",
              "3  2016-03-17                                  GOLF_4_1_4__3T?ER  privat   \n",
              "4  2016-03-31                     Skoda_Fabia_1.4_TDI_PD_Classic  privat   \n",
              "5  2016-04-04  BMW_316i___e36_Limousine___Bastlerfahrzeug__Ex...  privat   \n",
              "6  2016-04-01                        Peugeot_206_CC_110_Platinum  privat   \n",
              "\n",
              "  offertype   price abtest vehicletype  yearofregistration    gearbox  \\\n",
              "2   Angebot  9800.0   test         suv                2004  automatik   \n",
              "3   Angebot  1500.0   test  kleinwagen                2001     manual   \n",
              "4   Angebot  3600.0   test  kleinwagen                2008     manual   \n",
              "5   Angebot   650.0   test   limousine                1995     manual   \n",
              "6   Angebot  2200.0   test      cabrio                2004     manual   \n",
              "\n",
              "   powerps  ... monthofregistration  fueltype       brand notrepaireddamage  \\\n",
              "2      163  ...                   8    diesel        jeep               NaN   \n",
              "3       75  ...                   6    benzin  volkswagen                no   \n",
              "4       69  ...                   7    diesel       skoda                no   \n",
              "5      102  ...                  10    benzin         bmw               yes   \n",
              "6      109  ...                   8    benzin     peugeot                no   \n",
              "\n",
              "  datecreated nrofpictures postalcode   lastseen  days_to_sell weeks_to_sell  \n",
              "2  2016-03-14        FALSE      90480 2016-04-05             2        1 week  \n",
              "3  2016-03-17        FALSE      91074 2016-03-17            21       3 weeks  \n",
              "4  2016-03-31        FALSE      60437 2016-04-06             1        1 week  \n",
              "5  2016-04-04        FALSE      33775 2016-04-06             1        1 week  \n",
              "6  2016-04-01        FALSE      67112 2016-04-05             2        1 week  \n",
              "\n",
              "[5 rows x 22 columns]"
            ],
            "text/html": [
              "\n",
              "  <div id=\"df-a41c2978-758e-4db3-ba36-7b630452e1d7\">\n",
              "    <div class=\"colab-df-container\">\n",
              "      <div>\n",
              "<style scoped>\n",
              "    .dataframe tbody tr th:only-of-type {\n",
              "        vertical-align: middle;\n",
              "    }\n",
              "\n",
              "    .dataframe tbody tr th {\n",
              "        vertical-align: top;\n",
              "    }\n",
              "\n",
              "    .dataframe thead th {\n",
              "        text-align: right;\n",
              "    }\n",
              "</style>\n",
              "<table border=\"1\" class=\"dataframe\">\n",
              "  <thead>\n",
              "    <tr style=\"text-align: right;\">\n",
              "      <th></th>\n",
              "      <th>datecrawled</th>\n",
              "      <th>name</th>\n",
              "      <th>seller</th>\n",
              "      <th>offertype</th>\n",
              "      <th>price</th>\n",
              "      <th>abtest</th>\n",
              "      <th>vehicletype</th>\n",
              "      <th>yearofregistration</th>\n",
              "      <th>gearbox</th>\n",
              "      <th>powerps</th>\n",
              "      <th>...</th>\n",
              "      <th>monthofregistration</th>\n",
              "      <th>fueltype</th>\n",
              "      <th>brand</th>\n",
              "      <th>notrepaireddamage</th>\n",
              "      <th>datecreated</th>\n",
              "      <th>nrofpictures</th>\n",
              "      <th>postalcode</th>\n",
              "      <th>lastseen</th>\n",
              "      <th>days_to_sell</th>\n",
              "      <th>weeks_to_sell</th>\n",
              "    </tr>\n",
              "  </thead>\n",
              "  <tbody>\n",
              "    <tr>\n",
              "      <th>2</th>\n",
              "      <td>2016-03-14</td>\n",
              "      <td>Jeep_Grand_Cherokee_\"Overland\"</td>\n",
              "      <td>privat</td>\n",
              "      <td>Angebot</td>\n",
              "      <td>9800.0</td>\n",
              "      <td>test</td>\n",
              "      <td>suv</td>\n",
              "      <td>2004</td>\n",
              "      <td>automatik</td>\n",
              "      <td>163</td>\n",
              "      <td>...</td>\n",
              "      <td>8</td>\n",
              "      <td>diesel</td>\n",
              "      <td>jeep</td>\n",
              "      <td>NaN</td>\n",
              "      <td>2016-03-14</td>\n",
              "      <td>FALSE</td>\n",
              "      <td>90480</td>\n",
              "      <td>2016-04-05</td>\n",
              "      <td>2</td>\n",
              "      <td>1 week</td>\n",
              "    </tr>\n",
              "    <tr>\n",
              "      <th>3</th>\n",
              "      <td>2016-03-17</td>\n",
              "      <td>GOLF_4_1_4__3T?ER</td>\n",
              "      <td>privat</td>\n",
              "      <td>Angebot</td>\n",
              "      <td>1500.0</td>\n",
              "      <td>test</td>\n",
              "      <td>kleinwagen</td>\n",
              "      <td>2001</td>\n",
              "      <td>manual</td>\n",
              "      <td>75</td>\n",
              "      <td>...</td>\n",
              "      <td>6</td>\n",
              "      <td>benzin</td>\n",
              "      <td>volkswagen</td>\n",
              "      <td>no</td>\n",
              "      <td>2016-03-17</td>\n",
              "      <td>FALSE</td>\n",
              "      <td>91074</td>\n",
              "      <td>2016-03-17</td>\n",
              "      <td>21</td>\n",
              "      <td>3 weeks</td>\n",
              "    </tr>\n",
              "    <tr>\n",
              "      <th>4</th>\n",
              "      <td>2016-03-31</td>\n",
              "      <td>Skoda_Fabia_1.4_TDI_PD_Classic</td>\n",
              "      <td>privat</td>\n",
              "      <td>Angebot</td>\n",
              "      <td>3600.0</td>\n",
              "      <td>test</td>\n",
              "      <td>kleinwagen</td>\n",
              "      <td>2008</td>\n",
              "      <td>manual</td>\n",
              "      <td>69</td>\n",
              "      <td>...</td>\n",
              "      <td>7</td>\n",
              "      <td>diesel</td>\n",
              "      <td>skoda</td>\n",
              "      <td>no</td>\n",
              "      <td>2016-03-31</td>\n",
              "      <td>FALSE</td>\n",
              "      <td>60437</td>\n",
              "      <td>2016-04-06</td>\n",
              "      <td>1</td>\n",
              "      <td>1 week</td>\n",
              "    </tr>\n",
              "    <tr>\n",
              "      <th>5</th>\n",
              "      <td>2016-04-04</td>\n",
              "      <td>BMW_316i___e36_Limousine___Bastlerfahrzeug__Ex...</td>\n",
              "      <td>privat</td>\n",
              "      <td>Angebot</td>\n",
              "      <td>650.0</td>\n",
              "      <td>test</td>\n",
              "      <td>limousine</td>\n",
              "      <td>1995</td>\n",
              "      <td>manual</td>\n",
              "      <td>102</td>\n",
              "      <td>...</td>\n",
              "      <td>10</td>\n",
              "      <td>benzin</td>\n",
              "      <td>bmw</td>\n",
              "      <td>yes</td>\n",
              "      <td>2016-04-04</td>\n",
              "      <td>FALSE</td>\n",
              "      <td>33775</td>\n",
              "      <td>2016-04-06</td>\n",
              "      <td>1</td>\n",
              "      <td>1 week</td>\n",
              "    </tr>\n",
              "    <tr>\n",
              "      <th>6</th>\n",
              "      <td>2016-04-01</td>\n",
              "      <td>Peugeot_206_CC_110_Platinum</td>\n",
              "      <td>privat</td>\n",
              "      <td>Angebot</td>\n",
              "      <td>2200.0</td>\n",
              "      <td>test</td>\n",
              "      <td>cabrio</td>\n",
              "      <td>2004</td>\n",
              "      <td>manual</td>\n",
              "      <td>109</td>\n",
              "      <td>...</td>\n",
              "      <td>8</td>\n",
              "      <td>benzin</td>\n",
              "      <td>peugeot</td>\n",
              "      <td>no</td>\n",
              "      <td>2016-04-01</td>\n",
              "      <td>FALSE</td>\n",
              "      <td>67112</td>\n",
              "      <td>2016-04-05</td>\n",
              "      <td>2</td>\n",
              "      <td>1 week</td>\n",
              "    </tr>\n",
              "  </tbody>\n",
              "</table>\n",
              "<p>5 rows × 22 columns</p>\n",
              "</div>\n",
              "      <button class=\"colab-df-convert\" onclick=\"convertToInteractive('df-a41c2978-758e-4db3-ba36-7b630452e1d7')\"\n",
              "              title=\"Convert this dataframe to an interactive table.\"\n",
              "              style=\"display:none;\">\n",
              "        \n",
              "  <svg xmlns=\"http://www.w3.org/2000/svg\" height=\"24px\"viewBox=\"0 0 24 24\"\n",
              "       width=\"24px\">\n",
              "    <path d=\"M0 0h24v24H0V0z\" fill=\"none\"/>\n",
              "    <path d=\"M18.56 5.44l.94 2.06.94-2.06 2.06-.94-2.06-.94-.94-2.06-.94 2.06-2.06.94zm-11 1L8.5 8.5l.94-2.06 2.06-.94-2.06-.94L8.5 2.5l-.94 2.06-2.06.94zm10 10l.94 2.06.94-2.06 2.06-.94-2.06-.94-.94-2.06-.94 2.06-2.06.94z\"/><path d=\"M17.41 7.96l-1.37-1.37c-.4-.4-.92-.59-1.43-.59-.52 0-1.04.2-1.43.59L10.3 9.45l-7.72 7.72c-.78.78-.78 2.05 0 2.83L4 21.41c.39.39.9.59 1.41.59.51 0 1.02-.2 1.41-.59l7.78-7.78 2.81-2.81c.8-.78.8-2.07 0-2.86zM5.41 20L4 18.59l7.72-7.72 1.47 1.35L5.41 20z\"/>\n",
              "  </svg>\n",
              "      </button>\n",
              "      \n",
              "  <style>\n",
              "    .colab-df-container {\n",
              "      display:flex;\n",
              "      flex-wrap:wrap;\n",
              "      gap: 12px;\n",
              "    }\n",
              "\n",
              "    .colab-df-convert {\n",
              "      background-color: #E8F0FE;\n",
              "      border: none;\n",
              "      border-radius: 50%;\n",
              "      cursor: pointer;\n",
              "      display: none;\n",
              "      fill: #1967D2;\n",
              "      height: 32px;\n",
              "      padding: 0 0 0 0;\n",
              "      width: 32px;\n",
              "    }\n",
              "\n",
              "    .colab-df-convert:hover {\n",
              "      background-color: #E2EBFA;\n",
              "      box-shadow: 0px 1px 2px rgba(60, 64, 67, 0.3), 0px 1px 3px 1px rgba(60, 64, 67, 0.15);\n",
              "      fill: #174EA6;\n",
              "    }\n",
              "\n",
              "    [theme=dark] .colab-df-convert {\n",
              "      background-color: #3B4455;\n",
              "      fill: #D2E3FC;\n",
              "    }\n",
              "\n",
              "    [theme=dark] .colab-df-convert:hover {\n",
              "      background-color: #434B5C;\n",
              "      box-shadow: 0px 1px 3px 1px rgba(0, 0, 0, 0.15);\n",
              "      filter: drop-shadow(0px 1px 2px rgba(0, 0, 0, 0.3));\n",
              "      fill: #FFFFFF;\n",
              "    }\n",
              "  </style>\n",
              "\n",
              "      <script>\n",
              "        const buttonEl =\n",
              "          document.querySelector('#df-a41c2978-758e-4db3-ba36-7b630452e1d7 button.colab-df-convert');\n",
              "        buttonEl.style.display =\n",
              "          google.colab.kernel.accessAllowed ? 'block' : 'none';\n",
              "\n",
              "        async function convertToInteractive(key) {\n",
              "          const element = document.querySelector('#df-a41c2978-758e-4db3-ba36-7b630452e1d7');\n",
              "          const dataTable =\n",
              "            await google.colab.kernel.invokeFunction('convertToInteractive',\n",
              "                                                     [key], {});\n",
              "          if (!dataTable) return;\n",
              "\n",
              "          const docLinkHtml = 'Like what you see? Visit the ' +\n",
              "            '<a target=\"_blank\" href=https://colab.research.google.com/notebooks/data_table.ipynb>data table notebook</a>'\n",
              "            + ' to learn more about interactive tables.';\n",
              "          element.innerHTML = '';\n",
              "          dataTable['output_type'] = 'display_data';\n",
              "          await google.colab.output.renderOutput(dataTable, element);\n",
              "          const docLink = document.createElement('div');\n",
              "          docLink.innerHTML = docLinkHtml;\n",
              "          element.appendChild(docLink);\n",
              "        }\n",
              "      </script>\n",
              "    </div>\n",
              "  </div>\n",
              "  "
            ]
          },
          "metadata": {},
          "execution_count": 7
        }
      ]
    },
    {
      "cell_type": "markdown",
      "source": [
        "### e) Distribution plots of different variables"
      ],
      "metadata": {
        "id": "1YvOiuc50Wlo"
      },
      "id": "1YvOiuc50Wlo"
    },
    {
      "cell_type": "code",
      "source": [
        "plt.figure(figsize=(30,4))\n",
        "plt.subplot(1,3,1)\n",
        "sns.countplot(x=\"vehicletype\", data=df)\n",
        "plt.subplot(1,3,2)\n",
        "sns.countplot(x=\"fueltype\", data=df)\n",
        "plt.subplot(1,3,3)\n",
        "sns.countplot(x=\"weeks_to_sell\", data=df)"
      ],
      "metadata": {
        "colab": {
          "base_uri": "https://localhost:8080/",
          "height": 297
        },
        "id": "nwVVApKc0VuY",
        "outputId": "e8b1baeb-77cb-48ff-bcd4-6c7c1d0528a8"
      },
      "id": "nwVVApKc0VuY",
      "execution_count": null,
      "outputs": [
        {
          "output_type": "execute_result",
          "data": {
            "text/plain": [
              "<matplotlib.axes._subplots.AxesSubplot at 0x7f9cf5d48cd0>"
            ]
          },
          "metadata": {},
          "execution_count": 10
        },
        {
          "output_type": "display_data",
          "data": {
            "text/plain": [
              "<Figure size 2160x288 with 3 Axes>"
            ],
            "image/png": "[encoded data removed]"
          },
          "metadata": {
            "needs_background": "light"
          }
        }
      ]
    },
    {
      "cell_type": "code",
      "source": [
        "plt.figure(figsize=(30,4))\n",
        "sns.countplot(x=\"brand\", data=df)"
      ],
      "metadata": {
        "colab": {
          "base_uri": "https://localhost:8080/",
          "height": 297
        },
        "id": "gT98bzbg0gP5",
        "outputId": "17390bcd-bb79-42f7-ef76-5798a40e1cbb"
      },
      "id": "gT98bzbg0gP5",
      "execution_count": null,
      "outputs": [
        {
          "output_type": "execute_result",
          "data": {
            "text/plain": [
              "<matplotlib.axes._subplots.AxesSubplot at 0x7f9cf5bee3d0>"
            ]
          },
          "metadata": {},
          "execution_count": 12
        },
        {
          "output_type": "display_data",
          "data": {
            "text/plain": [
              "<Figure size 2160x288 with 1 Axes>"
            ],
            "image/png": "[encoded data removed]"
          },
          "metadata": {
            "needs_background": "light"
          }
        }
      ]
    },
    {
      "cell_type": "code",
      "source": [
        "g = sns.catplot(x=\"vehicletype\", hue=\"weeks_to_sell\", kind=\"count\", data=df)\n",
        "g.fig.set_figwidth(20)\n",
        "g.fig.set_figheight(4)\n",
        "plt.show()\n",
        "plt.figure(figsize=(20,4))"
      ],
      "metadata": {
        "colab": {
          "base_uri": "https://localhost:8080/",
          "height": 343
        },
        "id": "rUOS_8VJ1wnp",
        "outputId": "54d9e7b0-f854-47d0-8d6f-e859290f75d9"
      },
      "id": "rUOS_8VJ1wnp",
      "execution_count": null,
      "outputs": [
        {
          "output_type": "display_data",
          "data": {
            "text/plain": [
              "<Figure size 1440x288 with 1 Axes>"
            ],
            "image/png": "[encoded data removed]"
          },
          "metadata": {
            "needs_background": "light"
          }
        },
        {
          "output_type": "execute_result",
          "data": {
            "text/plain": [
              "<Figure size 1440x288 with 0 Axes>"
            ]
          },
          "metadata": {},
          "execution_count": 15
        },
        {
          "output_type": "display_data",
          "data": {
            "text/plain": [
              "<Figure size 1440x288 with 0 Axes>"
            ]
          },
          "metadata": {}
        }
      ]
    },
    {
      "cell_type": "code",
      "source": [
        "g = sns.catplot(x=\"kilometer\", hue=\"weeks_to_sell\", kind=\"count\", data=df)\n",
        "g.fig.set_figwidth(20)\n",
        "g.fig.set_figheight(5)\n",
        "plt.show()\n",
        "plt.figure(figsize=(20,5))"
      ],
      "metadata": {
        "colab": {
          "base_uri": "https://localhost:8080/",
          "height": 404
        },
        "id": "zJgKb2rO2wgB",
        "outputId": "f59ffcb3-2d2d-4ffc-c3b5-7cdf09e6823f"
      },
      "id": "zJgKb2rO2wgB",
      "execution_count": null,
      "outputs": [
        {
          "output_type": "display_data",
          "data": {
            "text/plain": [
              "<Figure size 1440x360 with 1 Axes>"
            ],
            "image/png": "[encoded data removed]"
          },
          "metadata": {
            "needs_background": "light"
          }
        },
        {
          "output_type": "execute_result",
          "data": {
            "text/plain": [
              "<Figure size 1440x360 with 0 Axes>"
            ]
          },
          "metadata": {},
          "execution_count": 16
        },
        {
          "output_type": "display_data",
          "data": {
            "text/plain": [
              "<Figure size 1440x360 with 0 Axes>"
            ]
          },
          "metadata": {}
        }
      ]
    },
    {
      "cell_type": "code",
      "source": [
        "g = sns.catplot(x=\"fueltype\", hue=\"weeks_to_sell\", kind=\"count\", data=df)\n",
        "g.fig.set_figwidth(20)\n",
        "g.fig.set_figheight(5)\n",
        "plt.show()\n",
        "plt.figure(figsize=(20,5))"
      ],
      "metadata": {
        "colab": {
          "base_uri": "https://localhost:8080/",
          "height": 404
        },
        "id": "_c8ssTrn44C-",
        "outputId": "e6957fda-1654-41f5-e1ef-12c8deff697e"
      },
      "id": "_c8ssTrn44C-",
      "execution_count": null,
      "outputs": [
        {
          "output_type": "display_data",
          "data": {
            "text/plain": [
              "<Figure size 1440x360 with 1 Axes>"
            ],
            "image/png": "[encoded data removed]"
          },
          "metadata": {
            "needs_background": "light"
          }
        },
        {
          "output_type": "execute_result",
          "data": {
            "text/plain": [
              "<Figure size 1440x360 with 0 Axes>"
            ]
          },
          "metadata": {},
          "execution_count": 17
        },
        {
          "output_type": "display_data",
          "data": {
            "text/plain": [
              "<Figure size 1440x360 with 0 Axes>"
            ]
          },
          "metadata": {}
        }
      ]
    },
    {
      "cell_type": "markdown",
      "source": [
        "### f) Basic Statistical indicators of the Features"
      ],
      "metadata": {
        "id": "bM4lLexO1--b"
      },
      "id": "bM4lLexO1--b"
    },
    {
      "cell_type": "code",
      "source": [
        "df.describe()"
      ],
      "metadata": {
        "colab": {
          "base_uri": "https://localhost:8080/",
          "height": 300
        },
        "id": "BTctLI4h2DbS",
        "outputId": "c6adb22a-0852-4e72-eef2-6ffe9e79c99b"
      },
      "id": "BTctLI4h2DbS",
      "execution_count": null,
      "outputs": [
        {
          "output_type": "execute_result",
          "data": {
            "text/plain": [
              "              price  yearofregistration        powerps      kilometer  \\\n",
              "count  1.737340e+05       173734.000000  173734.000000  173734.000000   \n",
              "mean   2.486018e+04         2004.434762     114.583081  126212.802330   \n",
              "std    5.207043e+06           89.637657     195.889613   39669.699879   \n",
              "min    0.000000e+00         1000.000000       0.000000    5000.000000   \n",
              "25%    1.100000e+03         1999.000000      69.000000  125000.000000   \n",
              "50%    2.800000e+03         2003.000000     105.000000  150000.000000   \n",
              "75%    6.900000e+03         2008.000000     147.000000  150000.000000   \n",
              "max    2.147484e+09         9999.000000   19208.000000  150000.000000   \n",
              "\n",
              "       monthofregistration     postalcode   days_to_sell  \n",
              "count        173734.000000  173734.000000  173734.000000  \n",
              "mean              5.724988   50536.615838       9.585493  \n",
              "std               3.718477   25689.646280       9.170561  \n",
              "min               0.000000    1067.000000       1.000000  \n",
              "25%               3.000000   30419.000000       1.000000  \n",
              "50%               6.000000   49419.000000       6.000000  \n",
              "75%               9.000000   71069.000000      17.000000  \n",
              "max              12.000000   99998.000000      33.000000  "
            ],
            "text/html": [
              "\n",
              "  <div id=\"df-083f83af-848c-456e-a83b-7e413d534da8\">\n",
              "    <div class=\"colab-df-container\">\n",
              "      <div>\n",
              "<style scoped>\n",
              "    .dataframe tbody tr th:only-of-type {\n",
              "        vertical-align: middle;\n",
              "    }\n",
              "\n",
              "    .dataframe tbody tr th {\n",
              "        vertical-align: top;\n",
              "    }\n",
              "\n",
              "    .dataframe thead th {\n",
              "        text-align: right;\n",
              "    }\n",
              "</style>\n",
              "<table border=\"1\" class=\"dataframe\">\n",
              "  <thead>\n",
              "    <tr style=\"text-align: right;\">\n",
              "      <th></th>\n",
              "      <th>price</th>\n",
              "      <th>yearofregistration</th>\n",
              "      <th>powerps</th>\n",
              "      <th>kilometer</th>\n",
              "      <th>monthofregistration</th>\n",
              "      <th>postalcode</th>\n",
              "      <th>days_to_sell</th>\n",
              "    </tr>\n",
              "  </thead>\n",
              "  <tbody>\n",
              "    <tr>\n",
              "      <th>count</th>\n",
              "      <td>1.737340e+05</td>\n",
              "      <td>173734.000000</td>\n",
              "      <td>173734.000000</td>\n",
              "      <td>173734.000000</td>\n",
              "      <td>173734.000000</td>\n",
              "      <td>173734.000000</td>\n",
              "      <td>173734.000000</td>\n",
              "    </tr>\n",
              "    <tr>\n",
              "      <th>mean</th>\n",
              "      <td>2.486018e+04</td>\n",
              "      <td>2004.434762</td>\n",
              "      <td>114.583081</td>\n",
              "      <td>126212.802330</td>\n",
              "      <td>5.724988</td>\n",
              "      <td>50536.615838</td>\n",
              "      <td>9.585493</td>\n",
              "    </tr>\n",
              "    <tr>\n",
              "      <th>std</th>\n",
              "      <td>5.207043e+06</td>\n",
              "      <td>89.637657</td>\n",
              "      <td>195.889613</td>\n",
              "      <td>39669.699879</td>\n",
              "      <td>3.718477</td>\n",
              "      <td>25689.646280</td>\n",
              "      <td>9.170561</td>\n",
              "    </tr>\n",
              "    <tr>\n",
              "      <th>min</th>\n",
              "      <td>0.000000e+00</td>\n",
              "      <td>1000.000000</td>\n",
              "      <td>0.000000</td>\n",
              "      <td>5000.000000</td>\n",
              "      <td>0.000000</td>\n",
              "      <td>1067.000000</td>\n",
              "      <td>1.000000</td>\n",
              "    </tr>\n",
              "    <tr>\n",
              "      <th>25%</th>\n",
              "      <td>1.100000e+03</td>\n",
              "      <td>1999.000000</td>\n",
              "      <td>69.000000</td>\n",
              "      <td>125000.000000</td>\n",
              "      <td>3.000000</td>\n",
              "      <td>30419.000000</td>\n",
              "      <td>1.000000</td>\n",
              "    </tr>\n",
              "    <tr>\n",
              "      <th>50%</th>\n",
              "      <td>2.800000e+03</td>\n",
              "      <td>2003.000000</td>\n",
              "      <td>105.000000</td>\n",
              "      <td>150000.000000</td>\n",
              "      <td>6.000000</td>\n",
              "      <td>49419.000000</td>\n",
              "      <td>6.000000</td>\n",
              "    </tr>\n",
              "    <tr>\n",
              "      <th>75%</th>\n",
              "      <td>6.900000e+03</td>\n",
              "      <td>2008.000000</td>\n",
              "      <td>147.000000</td>\n",
              "      <td>150000.000000</td>\n",
              "      <td>9.000000</td>\n",
              "      <td>71069.000000</td>\n",
              "      <td>17.000000</td>\n",
              "    </tr>\n",
              "    <tr>\n",
              "      <th>max</th>\n",
              "      <td>2.147484e+09</td>\n",
              "      <td>9999.000000</td>\n",
              "      <td>19208.000000</td>\n",
              "      <td>150000.000000</td>\n",
              "      <td>12.000000</td>\n",
              "      <td>99998.000000</td>\n",
              "      <td>33.000000</td>\n",
              "    </tr>\n",
              "  </tbody>\n",
              "</table>\n",
              "</div>\n",
              "      <button class=\"colab-df-convert\" onclick=\"convertToInteractive('df-083f83af-848c-456e-a83b-7e413d534da8')\"\n",
              "              title=\"Convert this dataframe to an interactive table.\"\n",
              "              style=\"display:none;\">\n",
              "        \n",
              "  <svg xmlns=\"http://www.w3.org/2000/svg\" height=\"24px\"viewBox=\"0 0 24 24\"\n",
              "       width=\"24px\">\n",
              "    <path d=\"M0 0h24v24H0V0z\" fill=\"none\"/>\n",
              "    <path d=\"M18.56 5.44l.94 2.06.94-2.06 2.06-.94-2.06-.94-.94-2.06-.94 2.06-2.06.94zm-11 1L8.5 8.5l.94-2.06 2.06-.94-2.06-.94L8.5 2.5l-.94 2.06-2.06.94zm10 10l.94 2.06.94-2.06 2.06-.94-2.06-.94-.94-2.06-.94 2.06-2.06.94z\"/><path d=\"M17.41 7.96l-1.37-1.37c-.4-.4-.92-.59-1.43-.59-.52 0-1.04.2-1.43.59L10.3 9.45l-7.72 7.72c-.78.78-.78 2.05 0 2.83L4 21.41c.39.39.9.59 1.41.59.51 0 1.02-.2 1.41-.59l7.78-7.78 2.81-2.81c.8-.78.8-2.07 0-2.86zM5.41 20L4 18.59l7.72-7.72 1.47 1.35L5.41 20z\"/>\n",
              "  </svg>\n",
              "      </button>\n",
              "      \n",
              "  <style>\n",
              "    .colab-df-container {\n",
              "      display:flex;\n",
              "      flex-wrap:wrap;\n",
              "      gap: 12px;\n",
              "    }\n",
              "\n",
              "    .colab-df-convert {\n",
              "      background-color: #E8F0FE;\n",
              "      border: none;\n",
              "      border-radius: 50%;\n",
              "      cursor: pointer;\n",
              "      display: none;\n",
              "      fill: #1967D2;\n",
              "      height: 32px;\n",
              "      padding: 0 0 0 0;\n",
              "      width: 32px;\n",
              "    }\n",
              "\n",
              "    .colab-df-convert:hover {\n",
              "      background-color: #E2EBFA;\n",
              "      box-shadow: 0px 1px 2px rgba(60, 64, 67, 0.3), 0px 1px 3px 1px rgba(60, 64, 67, 0.15);\n",
              "      fill: #174EA6;\n",
              "    }\n",
              "\n",
              "    [theme=dark] .colab-df-convert {\n",
              "      background-color: #3B4455;\n",
              "      fill: #D2E3FC;\n",
              "    }\n",
              "\n",
              "    [theme=dark] .colab-df-convert:hover {\n",
              "      background-color: #434B5C;\n",
              "      box-shadow: 0px 1px 3px 1px rgba(0, 0, 0, 0.15);\n",
              "      filter: drop-shadow(0px 1px 2px rgba(0, 0, 0, 0.3));\n",
              "      fill: #FFFFFF;\n",
              "    }\n",
              "  </style>\n",
              "\n",
              "      <script>\n",
              "        const buttonEl =\n",
              "          document.querySelector('#df-083f83af-848c-456e-a83b-7e413d534da8 button.colab-df-convert');\n",
              "        buttonEl.style.display =\n",
              "          google.colab.kernel.accessAllowed ? 'block' : 'none';\n",
              "\n",
              "        async function convertToInteractive(key) {\n",
              "          const element = document.querySelector('#df-083f83af-848c-456e-a83b-7e413d534da8');\n",
              "          const dataTable =\n",
              "            await google.colab.kernel.invokeFunction('convertToInteractive',\n",
              "                                                     [key], {});\n",
              "          if (!dataTable) return;\n",
              "\n",
              "          const docLinkHtml = 'Like what you see? Visit the ' +\n",
              "            '<a target=\"_blank\" href=https://colab.research.google.com/notebooks/data_table.ipynb>data table notebook</a>'\n",
              "            + ' to learn more about interactive tables.';\n",
              "          element.innerHTML = '';\n",
              "          dataTable['output_type'] = 'display_data';\n",
              "          await google.colab.output.renderOutput(dataTable, element);\n",
              "          const docLink = document.createElement('div');\n",
              "          docLink.innerHTML = docLinkHtml;\n",
              "          element.appendChild(docLink);\n",
              "        }\n",
              "      </script>\n",
              "    </div>\n",
              "  </div>\n",
              "  "
            ]
          },
          "metadata": {},
          "execution_count": 18
        }
      ]
    },
    {
      "cell_type": "markdown",
      "source": [
        "## **IV. Data Cleasing and Feature Engineering**"
      ],
      "metadata": {
        "id": "7jRfAlLQUVA0"
      },
      "id": "7jRfAlLQUVA0"
    },
    {
      "cell_type": "markdown",
      "source": [
        "### a) Outliers detection and removing"
      ],
      "metadata": {
        "id": "VnkniZU2Vbcq"
      },
      "id": "VnkniZU2Vbcq"
    },
    {
      "cell_type": "code",
      "source": [
        "plt.figure(figsize=(30,4))\n",
        "plt.subplot(1,4,1)\n",
        "sns.boxplot(x=df['price'])\n",
        "plt.subplot(1,4,2)\n",
        "sns.boxplot(x=df['yearofregistration'])\n",
        "plt.subplot(1,4,3)\n",
        "sns.boxplot(x=df['powerps'])\n",
        "plt.subplot(1,4,4)\n",
        "sns.boxplot(x=df['kilometer'])"
      ],
      "metadata": {
        "colab": {
          "base_uri": "https://localhost:8080/",
          "height": 296
        },
        "id": "AnHDvRyiVayQ",
        "outputId": "7679b1fa-3ffb-4c81-c9b4-3b0197538a51"
      },
      "id": "AnHDvRyiVayQ",
      "execution_count": null,
      "outputs": [
        {
          "output_type": "execute_result",
          "data": {
            "text/plain": [
              "<matplotlib.axes._subplots.AxesSubplot at 0x7f9cee5b2290>"
            ]
          },
          "metadata": {},
          "execution_count": 19
        },
        {
          "output_type": "display_data",
          "data": {
            "text/plain": [
              "<Figure size 2160x288 with 4 Axes>"
            ],
            "image/png": "[encoded data removed]"
          },
          "metadata": {
            "needs_background": "light"
          }
        }
      ]
    },
    {
      "cell_type": "code",
      "source": [
        "# Removing of outliers based on box plots\n",
        "df = df[df.price < 50000]\n",
        "df = df[df.yearofregistration > 1980]\n",
        "df = df[df.yearofregistration < 2022]\n",
        "df = df[df.powerps < 1000]\n",
        "df = df[df.kilometer > 25000]"
      ],
      "metadata": {
        "id": "NJB4Mp_hXM25"
      },
      "id": "NJB4Mp_hXM25",
      "execution_count": null,
      "outputs": []
    },
    {
      "cell_type": "markdown",
      "source": [
        "### b) Feature Selection\n",
        "#### 1. Correlation of numerical variables with a Correlation Matrix"
      ],
      "metadata": {
        "id": "aTk-cva4YfEL"
      },
      "id": "aTk-cva4YfEL"
    },
    {
      "cell_type": "code",
      "source": [
        "corr = df.corr(method='spearman')\n",
        "# Create graphical matrix of correlations\n",
        "plt.figure(figsize = (5,5))\n",
        "sns.heatmap(corr, annot=True, fmt=\".2f\", vmax=1, vmin=-1, center=0)"
      ],
      "metadata": {
        "colab": {
          "base_uri": "https://localhost:8080/",
          "height": 430
        },
        "id": "0N8Sh9k2Yp7e",
        "outputId": "4cce8495-df70-43aa-fa49-78daeb2d652f"
      },
      "id": "0N8Sh9k2Yp7e",
      "execution_count": null,
      "outputs": [
        {
          "output_type": "execute_result",
          "data": {
            "text/plain": [
              "<matplotlib.axes._subplots.AxesSubplot at 0x7f9cf5d37810>"
            ]
          },
          "metadata": {},
          "execution_count": 22
        },
        {
          "output_type": "display_data",
          "data": {
            "text/plain": [
              "<Figure size 360x360 with 2 Axes>"
            ],
            "image/png": "[encoded data removed]"
          },
          "metadata": {
            "needs_background": "light"
          }
        }
      ]
    },
    {
      "cell_type": "markdown",
      "source": [
        "#### 2. Chi square Test for categorical variables"
      ],
      "metadata": {
        "id": "uUrkj-7jZ9cx"
      },
      "id": "uUrkj-7jZ9cx"
    },
    {
      "cell_type": "code",
      "source": [
        "CrosstabResult = []\n",
        "\n",
        "# Cross tabulation between Brand and weeks_to_sell\n",
        "CrosstabResult.append(pd.crosstab(index=df['brand'],columns=df['weeks_to_sell']))\n",
        "CrosstabResult.append(pd.crosstab(index=df['model'],columns=df['weeks_to_sell']))\n",
        "CrosstabResult.append(pd.crosstab(index=df['vehicletype'],columns=df['weeks_to_sell']))\n",
        "CrosstabResult.append(pd.crosstab(index=df['fueltype'],columns=df['weeks_to_sell']))\n",
        " \n",
        "# P-Value is the Probability of H0 being True\n",
        "# If P-Value < 0.05 then only we Accept the assumption(H0)\n",
        " \n",
        "print('The P-Value of the ChiSq Test for Brand is:', chi2_contingency(CrosstabResult[0])[1])\n",
        "print('\\nThe P-Value of the ChiSq Test for Model is:', chi2_contingency(CrosstabResult[1])[1])\n",
        "print('\\nThe P-Value of the ChiSq Test for VehicleType is:', chi2_contingency(CrosstabResult[2])[1])\n",
        "print('\\nThe P-Value of the ChiSq Test for FuelType is:', chi2_contingency(CrosstabResult[3])[1])"
      ],
      "metadata": {
        "colab": {
          "base_uri": "https://localhost:8080/"
        },
        "id": "gx8KtbEIaEQ4",
        "outputId": "0052bfba-a562-46c4-b414-a1e48730f9db"
      },
      "id": "gx8KtbEIaEQ4",
      "execution_count": null,
      "outputs": [
        {
          "output_type": "stream",
          "name": "stdout",
          "text": [
            "The P-Value of the ChiSq Test for Brand is: 2.5839288249737756e-63\n",
            "\n",
            "The P-Value of the ChiSq Test for Model is: 1.0745088609955618e-89\n",
            "\n",
            "The P-Value of the ChiSq Test for VehicleType is: 7.383900668615332e-122\n",
            "\n",
            "The P-Value of the ChiSq Test for FuelType is: 2.4748905221976543e-08\n"
          ]
        }
      ]
    },
    {
      "cell_type": "markdown",
      "source": [
        "#### 3. Feature Dropping\n",
        "We remove columns where we think they don't have special impact in the model\n"
      ],
      "metadata": {
        "id": "eEoaNv4Lc867"
      },
      "id": "eEoaNv4Lc867"
    },
    {
      "cell_type": "code",
      "source": [
        "df = df.drop(columns=['datecrawled', 'name', 'monthofregistration', 'datecreated', 'lastseen', 'days_to_sell'], inplace=False)\n",
        "df = df.drop(columns=['model', 'nrofpictures', 'postalcode'], inplace=False)\n",
        "df = df.dropna()\n",
        "df.head()"
      ],
      "metadata": {
        "colab": {
          "base_uri": "https://localhost:8080/",
          "height": 206
        },
        "id": "clA7PwKFdPSo",
        "outputId": "cbc5e2bf-a7dd-45b9-d3db-51b6316efa9d"
      },
      "id": "clA7PwKFdPSo",
      "execution_count": null,
      "outputs": [
        {
          "output_type": "execute_result",
          "data": {
            "text/plain": [
              "    seller offertype   price   abtest vehicletype  yearofregistration gearbox  \\\n",
              "3   privat   Angebot  1500.0     test  kleinwagen                2001  manual   \n",
              "4   privat   Angebot  3600.0     test  kleinwagen                2008  manual   \n",
              "5   privat   Angebot   650.0     test   limousine                1995  manual   \n",
              "6   privat   Angebot  2200.0     test      cabrio                2004  manual   \n",
              "10  privat   Angebot  2000.0  control   limousine                2004  manual   \n",
              "\n",
              "    powerps  kilometer fueltype       brand notrepaireddamage weeks_to_sell  \n",
              "3        75     150000   benzin  volkswagen                no       3 weeks  \n",
              "4        69      90000   diesel       skoda                no        1 week  \n",
              "5       102     150000   benzin         bmw               yes        1 week  \n",
              "6       109     150000   benzin     peugeot                no        1 week  \n",
              "10      105     150000   benzin       mazda                no        1 week  "
            ],
            "text/html": [
              "\n",
              "  <div id=\"df-54d72971-809c-4b25-a355-42e6460256d6\">\n",
              "    <div class=\"colab-df-container\">\n",
              "      <div>\n",
              "<style scoped>\n",
              "    .dataframe tbody tr th:only-of-type {\n",
              "        vertical-align: middle;\n",
              "    }\n",
              "\n",
              "    .dataframe tbody tr th {\n",
              "        vertical-align: top;\n",
              "    }\n",
              "\n",
              "    .dataframe thead th {\n",
              "        text-align: right;\n",
              "    }\n",
              "</style>\n",
              "<table border=\"1\" class=\"dataframe\">\n",
              "  <thead>\n",
              "    <tr style=\"text-align: right;\">\n",
              "      <th></th>\n",
              "      <th>seller</th>\n",
              "      <th>offertype</th>\n",
              "      <th>price</th>\n",
              "      <th>abtest</th>\n",
              "      <th>vehicletype</th>\n",
              "      <th>yearofregistration</th>\n",
              "      <th>gearbox</th>\n",
              "      <th>powerps</th>\n",
              "      <th>kilometer</th>\n",
              "      <th>fueltype</th>\n",
              "      <th>brand</th>\n",
              "      <th>notrepaireddamage</th>\n",
              "      <th>weeks_to_sell</th>\n",
              "    </tr>\n",
              "  </thead>\n",
              "  <tbody>\n",
              "    <tr>\n",
              "      <th>3</th>\n",
              "      <td>privat</td>\n",
              "      <td>Angebot</td>\n",
              "      <td>1500.0</td>\n",
              "      <td>test</td>\n",
              "      <td>kleinwagen</td>\n",
              "      <td>2001</td>\n",
              "      <td>manual</td>\n",
              "      <td>75</td>\n",
              "      <td>150000</td>\n",
              "      <td>benzin</td>\n",
              "      <td>volkswagen</td>\n",
              "      <td>no</td>\n",
              "      <td>3 weeks</td>\n",
              "    </tr>\n",
              "    <tr>\n",
              "      <th>4</th>\n",
              "      <td>privat</td>\n",
              "      <td>Angebot</td>\n",
              "      <td>3600.0</td>\n",
              "      <td>test</td>\n",
              "      <td>kleinwagen</td>\n",
              "      <td>2008</td>\n",
              "      <td>manual</td>\n",
              "      <td>69</td>\n",
              "      <td>90000</td>\n",
              "      <td>diesel</td>\n",
              "      <td>skoda</td>\n",
              "      <td>no</td>\n",
              "      <td>1 week</td>\n",
              "    </tr>\n",
              "    <tr>\n",
              "      <th>5</th>\n",
              "      <td>privat</td>\n",
              "      <td>Angebot</td>\n",
              "      <td>650.0</td>\n",
              "      <td>test</td>\n",
              "      <td>limousine</td>\n",
              "      <td>1995</td>\n",
              "      <td>manual</td>\n",
              "      <td>102</td>\n",
              "      <td>150000</td>\n",
              "      <td>benzin</td>\n",
              "      <td>bmw</td>\n",
              "      <td>yes</td>\n",
              "      <td>1 week</td>\n",
              "    </tr>\n",
              "    <tr>\n",
              "      <th>6</th>\n",
              "      <td>privat</td>\n",
              "      <td>Angebot</td>\n",
              "      <td>2200.0</td>\n",
              "      <td>test</td>\n",
              "      <td>cabrio</td>\n",
              "      <td>2004</td>\n",
              "      <td>manual</td>\n",
              "      <td>109</td>\n",
              "      <td>150000</td>\n",
              "      <td>benzin</td>\n",
              "      <td>peugeot</td>\n",
              "      <td>no</td>\n",
              "      <td>1 week</td>\n",
              "    </tr>\n",
              "    <tr>\n",
              "      <th>10</th>\n",
              "      <td>privat</td>\n",
              "      <td>Angebot</td>\n",
              "      <td>2000.0</td>\n",
              "      <td>control</td>\n",
              "      <td>limousine</td>\n",
              "      <td>2004</td>\n",
              "      <td>manual</td>\n",
              "      <td>105</td>\n",
              "      <td>150000</td>\n",
              "      <td>benzin</td>\n",
              "      <td>mazda</td>\n",
              "      <td>no</td>\n",
              "      <td>1 week</td>\n",
              "    </tr>\n",
              "  </tbody>\n",
              "</table>\n",
              "</div>\n",
              "      <button class=\"colab-df-convert\" onclick=\"convertToInteractive('df-54d72971-809c-4b25-a355-42e6460256d6')\"\n",
              "              title=\"Convert this dataframe to an interactive table.\"\n",
              "              style=\"display:none;\">\n",
              "        \n",
              "  <svg xmlns=\"http://www.w3.org/2000/svg\" height=\"24px\"viewBox=\"0 0 24 24\"\n",
              "       width=\"24px\">\n",
              "    <path d=\"M0 0h24v24H0V0z\" fill=\"none\"/>\n",
              "    <path d=\"M18.56 5.44l.94 2.06.94-2.06 2.06-.94-2.06-.94-.94-2.06-.94 2.06-2.06.94zm-11 1L8.5 8.5l.94-2.06 2.06-.94-2.06-.94L8.5 2.5l-.94 2.06-2.06.94zm10 10l.94 2.06.94-2.06 2.06-.94-2.06-.94-.94-2.06-.94 2.06-2.06.94z\"/><path d=\"M17.41 7.96l-1.37-1.37c-.4-.4-.92-.59-1.43-.59-.52 0-1.04.2-1.43.59L10.3 9.45l-7.72 7.72c-.78.78-.78 2.05 0 2.83L4 21.41c.39.39.9.59 1.41.59.51 0 1.02-.2 1.41-.59l7.78-7.78 2.81-2.81c.8-.78.8-2.07 0-2.86zM5.41 20L4 18.59l7.72-7.72 1.47 1.35L5.41 20z\"/>\n",
              "  </svg>\n",
              "      </button>\n",
              "      \n",
              "  <style>\n",
              "    .colab-df-container {\n",
              "      display:flex;\n",
              "      flex-wrap:wrap;\n",
              "      gap: 12px;\n",
              "    }\n",
              "\n",
              "    .colab-df-convert {\n",
              "      background-color: #E8F0FE;\n",
              "      border: none;\n",
              "      border-radius: 50%;\n",
              "      cursor: pointer;\n",
              "      display: none;\n",
              "      fill: #1967D2;\n",
              "      height: 32px;\n",
              "      padding: 0 0 0 0;\n",
              "      width: 32px;\n",
              "    }\n",
              "\n",
              "    .colab-df-convert:hover {\n",
              "      background-color: #E2EBFA;\n",
              "      box-shadow: 0px 1px 2px rgba(60, 64, 67, 0.3), 0px 1px 3px 1px rgba(60, 64, 67, 0.15);\n",
              "      fill: #174EA6;\n",
              "    }\n",
              "\n",
              "    [theme=dark] .colab-df-convert {\n",
              "      background-color: #3B4455;\n",
              "      fill: #D2E3FC;\n",
              "    }\n",
              "\n",
              "    [theme=dark] .colab-df-convert:hover {\n",
              "      background-color: #434B5C;\n",
              "      box-shadow: 0px 1px 3px 1px rgba(0, 0, 0, 0.15);\n",
              "      filter: drop-shadow(0px 1px 2px rgba(0, 0, 0, 0.3));\n",
              "      fill: #FFFFFF;\n",
              "    }\n",
              "  </style>\n",
              "\n",
              "      <script>\n",
              "        const buttonEl =\n",
              "          document.querySelector('#df-54d72971-809c-4b25-a355-42e6460256d6 button.colab-df-convert');\n",
              "        buttonEl.style.display =\n",
              "          google.colab.kernel.accessAllowed ? 'block' : 'none';\n",
              "\n",
              "        async function convertToInteractive(key) {\n",
              "          const element = document.querySelector('#df-54d72971-809c-4b25-a355-42e6460256d6');\n",
              "          const dataTable =\n",
              "            await google.colab.kernel.invokeFunction('convertToInteractive',\n",
              "                                                     [key], {});\n",
              "          if (!dataTable) return;\n",
              "\n",
              "          const docLinkHtml = 'Like what you see? Visit the ' +\n",
              "            '<a target=\"_blank\" href=https://colab.research.google.com/notebooks/data_table.ipynb>data table notebook</a>'\n",
              "            + ' to learn more about interactive tables.';\n",
              "          element.innerHTML = '';\n",
              "          dataTable['output_type'] = 'display_data';\n",
              "          await google.colab.output.renderOutput(dataTable, element);\n",
              "          const docLink = document.createElement('div');\n",
              "          docLink.innerHTML = docLinkHtml;\n",
              "          element.appendChild(docLink);\n",
              "        }\n",
              "      </script>\n",
              "    </div>\n",
              "  </div>\n",
              "  "
            ]
          },
          "metadata": {},
          "execution_count": 24
        }
      ]
    },
    {
      "cell_type": "markdown",
      "source": [
        "### c) Categorical variables encoding\n",
        "First we check the number of uniques values for each feature"
      ],
      "metadata": {
        "id": "3lCGNCrLeQT2"
      },
      "id": "3lCGNCrLeQT2"
    },
    {
      "cell_type": "code",
      "source": [
        "df.nunique()"
      ],
      "metadata": {
        "colab": {
          "base_uri": "https://localhost:8080/"
        },
        "id": "61jbKYoSekcl",
        "outputId": "eb15f6e0-ee10-44ae-c01e-fec9411af9be"
      },
      "id": "61jbKYoSekcl",
      "execution_count": null,
      "outputs": [
        {
          "output_type": "execute_result",
          "data": {
            "text/plain": [
              "seller                   2\n",
              "offertype                2\n",
              "price                 3261\n",
              "abtest                   2\n",
              "vehicletype              8\n",
              "yearofregistration      38\n",
              "gearbox                  2\n",
              "powerps                431\n",
              "kilometer               10\n",
              "fueltype                 7\n",
              "brand                   40\n",
              "notrepaireddamage        2\n",
              "weeks_to_sell            5\n",
              "dtype: int64"
            ]
          },
          "metadata": {},
          "execution_count": 62
        }
      ]
    },
    {
      "cell_type": "markdown",
      "source": [
        "#### 1. OneHot enconding for variables with onl 2 categories"
      ],
      "metadata": {
        "id": "XPsZcZQTepKb"
      },
      "id": "XPsZcZQTepKb"
    },
    {
      "cell_type": "code",
      "source": [
        "ohe = OneHotEncoder(categories='auto', drop='if_binary',sparse=False)\n",
        "\n",
        "df['seller_privat'] = pd.DataFrame(ohe.fit_transform(df[['seller']])).values\n",
        "df['offertype_Gesuch'] = pd.DataFrame(ohe.fit_transform(df[['offertype']])).values\n",
        "df['abtest_test'] = pd.DataFrame(ohe.fit_transform(df[['abtest']])).values\n",
        "df['gearbox_manual'] = pd.DataFrame(ohe.fit_transform(df[['gearbox']])).values\n",
        "df['notrepaireddamage_yes'] = pd.DataFrame(ohe.fit_transform(df[['notrepaireddamage']])).values\n",
        "df = df.drop(columns=['seller', 'offertype', 'abtest', 'gearbox', 'notrepaireddamage'], inplace=False)\n",
        "df.head()"
      ],
      "metadata": {
        "colab": {
          "base_uri": "https://localhost:8080/",
          "height": 206
        },
        "id": "ggqVjUG_OUb-",
        "outputId": "502d5597-1906-4f85-d263-5e05a6656c68"
      },
      "id": "ggqVjUG_OUb-",
      "execution_count": null,
      "outputs": [
        {
          "output_type": "execute_result",
          "data": {
            "text/plain": [
              "     price vehicletype  yearofregistration  powerps  kilometer fueltype  \\\n",
              "3   1500.0  kleinwagen                2001       75     150000   benzin   \n",
              "4   3600.0  kleinwagen                2008       69      90000   diesel   \n",
              "5    650.0   limousine                1995      102     150000   benzin   \n",
              "6   2200.0      cabrio                2004      109     150000   benzin   \n",
              "10  2000.0   limousine                2004      105     150000   benzin   \n",
              "\n",
              "         brand weeks_to_sell  seller_privat  offertype_Gesuch  abtest_test  \\\n",
              "3   volkswagen       3 weeks            1.0               0.0          1.0   \n",
              "4        skoda        1 week            1.0               0.0          1.0   \n",
              "5          bmw        1 week            1.0               0.0          1.0   \n",
              "6      peugeot        1 week            1.0               0.0          1.0   \n",
              "10       mazda        1 week            1.0               0.0          0.0   \n",
              "\n",
              "    gearbox_manual  notrepaireddamage_yes  \n",
              "3              1.0                    0.0  \n",
              "4              1.0                    0.0  \n",
              "5              1.0                    1.0  \n",
              "6              1.0                    0.0  \n",
              "10             1.0                    0.0  "
            ],
            "text/html": [
              "\n",
              "  <div id=\"df-9ec94753-fbd5-4694-84c8-d029b641f6a1\">\n",
              "    <div class=\"colab-df-container\">\n",
              "      <div>\n",
              "<style scoped>\n",
              "    .dataframe tbody tr th:only-of-type {\n",
              "        vertical-align: middle;\n",
              "    }\n",
              "\n",
              "    .dataframe tbody tr th {\n",
              "        vertical-align: top;\n",
              "    }\n",
              "\n",
              "    .dataframe thead th {\n",
              "        text-align: right;\n",
              "    }\n",
              "</style>\n",
              "<table border=\"1\" class=\"dataframe\">\n",
              "  <thead>\n",
              "    <tr style=\"text-align: right;\">\n",
              "      <th></th>\n",
              "      <th>price</th>\n",
              "      <th>vehicletype</th>\n",
              "      <th>yearofregistration</th>\n",
              "      <th>powerps</th>\n",
              "      <th>kilometer</th>\n",
              "      <th>fueltype</th>\n",
              "      <th>brand</th>\n",
              "      <th>weeks_to_sell</th>\n",
              "      <th>seller_privat</th>\n",
              "      <th>offertype_Gesuch</th>\n",
              "      <th>abtest_test</th>\n",
              "      <th>gearbox_manual</th>\n",
              "      <th>notrepaireddamage_yes</th>\n",
              "    </tr>\n",
              "  </thead>\n",
              "  <tbody>\n",
              "    <tr>\n",
              "      <th>3</th>\n",
              "      <td>1500.0</td>\n",
              "      <td>kleinwagen</td>\n",
              "      <td>2001</td>\n",
              "      <td>75</td>\n",
              "      <td>150000</td>\n",
              "      <td>benzin</td>\n",
              "      <td>volkswagen</td>\n",
              "      <td>3 weeks</td>\n",
              "      <td>1.0</td>\n",
              "      <td>0.0</td>\n",
              "      <td>1.0</td>\n",
              "      <td>1.0</td>\n",
              "      <td>0.0</td>\n",
              "    </tr>\n",
              "    <tr>\n",
              "      <th>4</th>\n",
              "      <td>3600.0</td>\n",
              "      <td>kleinwagen</td>\n",
              "      <td>2008</td>\n",
              "      <td>69</td>\n",
              "      <td>90000</td>\n",
              "      <td>diesel</td>\n",
              "      <td>skoda</td>\n",
              "      <td>1 week</td>\n",
              "      <td>1.0</td>\n",
              "      <td>0.0</td>\n",
              "      <td>1.0</td>\n",
              "      <td>1.0</td>\n",
              "      <td>0.0</td>\n",
              "    </tr>\n",
              "    <tr>\n",
              "      <th>5</th>\n",
              "      <td>650.0</td>\n",
              "      <td>limousine</td>\n",
              "      <td>1995</td>\n",
              "      <td>102</td>\n",
              "      <td>150000</td>\n",
              "      <td>benzin</td>\n",
              "      <td>bmw</td>\n",
              "      <td>1 week</td>\n",
              "      <td>1.0</td>\n",
              "      <td>0.0</td>\n",
              "      <td>1.0</td>\n",
              "      <td>1.0</td>\n",
              "      <td>1.0</td>\n",
              "    </tr>\n",
              "    <tr>\n",
              "      <th>6</th>\n",
              "      <td>2200.0</td>\n",
              "      <td>cabrio</td>\n",
              "      <td>2004</td>\n",
              "      <td>109</td>\n",
              "      <td>150000</td>\n",
              "      <td>benzin</td>\n",
              "      <td>peugeot</td>\n",
              "      <td>1 week</td>\n",
              "      <td>1.0</td>\n",
              "      <td>0.0</td>\n",
              "      <td>1.0</td>\n",
              "      <td>1.0</td>\n",
              "      <td>0.0</td>\n",
              "    </tr>\n",
              "    <tr>\n",
              "      <th>10</th>\n",
              "      <td>2000.0</td>\n",
              "      <td>limousine</td>\n",
              "      <td>2004</td>\n",
              "      <td>105</td>\n",
              "      <td>150000</td>\n",
              "      <td>benzin</td>\n",
              "      <td>mazda</td>\n",
              "      <td>1 week</td>\n",
              "      <td>1.0</td>\n",
              "      <td>0.0</td>\n",
              "      <td>0.0</td>\n",
              "      <td>1.0</td>\n",
              "      <td>0.0</td>\n",
              "    </tr>\n",
              "  </tbody>\n",
              "</table>\n",
              "</div>\n",
              "      <button class=\"colab-df-convert\" onclick=\"convertToInteractive('df-9ec94753-fbd5-4694-84c8-d029b641f6a1')\"\n",
              "              title=\"Convert this dataframe to an interactive table.\"\n",
              "              style=\"display:none;\">\n",
              "        \n",
              "  <svg xmlns=\"http://www.w3.org/2000/svg\" height=\"24px\"viewBox=\"0 0 24 24\"\n",
              "       width=\"24px\">\n",
              "    <path d=\"M0 0h24v24H0V0z\" fill=\"none\"/>\n",
              "    <path d=\"M18.56 5.44l.94 2.06.94-2.06 2.06-.94-2.06-.94-.94-2.06-.94 2.06-2.06.94zm-11 1L8.5 8.5l.94-2.06 2.06-.94-2.06-.94L8.5 2.5l-.94 2.06-2.06.94zm10 10l.94 2.06.94-2.06 2.06-.94-2.06-.94-.94-2.06-.94 2.06-2.06.94z\"/><path d=\"M17.41 7.96l-1.37-1.37c-.4-.4-.92-.59-1.43-.59-.52 0-1.04.2-1.43.59L10.3 9.45l-7.72 7.72c-.78.78-.78 2.05 0 2.83L4 21.41c.39.39.9.59 1.41.59.51 0 1.02-.2 1.41-.59l7.78-7.78 2.81-2.81c.8-.78.8-2.07 0-2.86zM5.41 20L4 18.59l7.72-7.72 1.47 1.35L5.41 20z\"/>\n",
              "  </svg>\n",
              "      </button>\n",
              "      \n",
              "  <style>\n",
              "    .colab-df-container {\n",
              "      display:flex;\n",
              "      flex-wrap:wrap;\n",
              "      gap: 12px;\n",
              "    }\n",
              "\n",
              "    .colab-df-convert {\n",
              "      background-color: #E8F0FE;\n",
              "      border: none;\n",
              "      border-radius: 50%;\n",
              "      cursor: pointer;\n",
              "      display: none;\n",
              "      fill: #1967D2;\n",
              "      height: 32px;\n",
              "      padding: 0 0 0 0;\n",
              "      width: 32px;\n",
              "    }\n",
              "\n",
              "    .colab-df-convert:hover {\n",
              "      background-color: #E2EBFA;\n",
              "      box-shadow: 0px 1px 2px rgba(60, 64, 67, 0.3), 0px 1px 3px 1px rgba(60, 64, 67, 0.15);\n",
              "      fill: #174EA6;\n",
              "    }\n",
              "\n",
              "    [theme=dark] .colab-df-convert {\n",
              "      background-color: #3B4455;\n",
              "      fill: #D2E3FC;\n",
              "    }\n",
              "\n",
              "    [theme=dark] .colab-df-convert:hover {\n",
              "      background-color: #434B5C;\n",
              "      box-shadow: 0px 1px 3px 1px rgba(0, 0, 0, 0.15);\n",
              "      filter: drop-shadow(0px 1px 2px rgba(0, 0, 0, 0.3));\n",
              "      fill: #FFFFFF;\n",
              "    }\n",
              "  </style>\n",
              "\n",
              "      <script>\n",
              "        const buttonEl =\n",
              "          document.querySelector('#df-9ec94753-fbd5-4694-84c8-d029b641f6a1 button.colab-df-convert');\n",
              "        buttonEl.style.display =\n",
              "          google.colab.kernel.accessAllowed ? 'block' : 'none';\n",
              "\n",
              "        async function convertToInteractive(key) {\n",
              "          const element = document.querySelector('#df-9ec94753-fbd5-4694-84c8-d029b641f6a1');\n",
              "          const dataTable =\n",
              "            await google.colab.kernel.invokeFunction('convertToInteractive',\n",
              "                                                     [key], {});\n",
              "          if (!dataTable) return;\n",
              "\n",
              "          const docLinkHtml = 'Like what you see? Visit the ' +\n",
              "            '<a target=\"_blank\" href=https://colab.research.google.com/notebooks/data_table.ipynb>data table notebook</a>'\n",
              "            + ' to learn more about interactive tables.';\n",
              "          element.innerHTML = '';\n",
              "          dataTable['output_type'] = 'display_data';\n",
              "          await google.colab.output.renderOutput(dataTable, element);\n",
              "          const docLink = document.createElement('div');\n",
              "          docLink.innerHTML = docLinkHtml;\n",
              "          element.appendChild(docLink);\n",
              "        }\n",
              "      </script>\n",
              "    </div>\n",
              "  </div>\n",
              "  "
            ]
          },
          "metadata": {},
          "execution_count": 25
        }
      ]
    },
    {
      "cell_type": "markdown",
      "source": [
        "#### 2. Dummy encoding for variables with more than 2 categories"
      ],
      "metadata": {
        "id": "_aBl34ple74-"
      },
      "id": "_aBl34ple74-"
    },
    {
      "cell_type": "code",
      "source": [
        "df2 = pd.get_dummies(df, columns=['brand'])\n",
        "df2 = pd.get_dummies(df2, columns=['vehicletype'])\n",
        "df2 = pd.get_dummies(df2, columns=['fueltype'])\n",
        "# df2 = df2.drop(columns=['brand'], inplace=False)\n",
        "\n",
        "# shift column to last position\n",
        "column = df2.pop('weeks_to_sell')\n",
        "\n",
        "# insert column using insert(position,column_name, first_column) function\n",
        "df2.insert(len(df2.columns), 'weeks_to_sell', column)\n",
        "df2"
      ],
      "metadata": {
        "colab": {
          "base_uri": "https://localhost:8080/",
          "height": 505
        },
        "id": "VXYYHPv_Oyai",
        "outputId": "9d9a5ea0-05a0-45ec-da58-3e49451bfd61"
      },
      "id": "VXYYHPv_Oyai",
      "execution_count": null,
      "outputs": [
        {
          "output_type": "execute_result",
          "data": {
            "text/plain": [
              "          price  yearofregistration  powerps  kilometer  seller_privat  \\\n",
              "3        1500.0                2001       75     150000            1.0   \n",
              "4        3600.0                2008       69      90000            1.0   \n",
              "5         650.0                1995      102     150000            1.0   \n",
              "6        2200.0                2004      109     150000            1.0   \n",
              "10       2000.0                2004      105     150000            1.0   \n",
              "...         ...                 ...      ...        ...            ...   \n",
              "199991   4900.0                1992      150     150000            1.0   \n",
              "199994   2199.0                2001       50     150000            1.0   \n",
              "199996    600.0                1998      116     150000            1.0   \n",
              "199998  11400.0                2012      110     125000            1.0   \n",
              "199999   1600.0                1998      101     150000            1.0   \n",
              "\n",
              "        offertype_Gesuch  abtest_test  gearbox_manual  notrepaireddamage_yes  \\\n",
              "3                    0.0          1.0             1.0                    0.0   \n",
              "4                    0.0          1.0             1.0                    0.0   \n",
              "5                    0.0          1.0             1.0                    1.0   \n",
              "6                    0.0          1.0             1.0                    0.0   \n",
              "10                   0.0          0.0             1.0                    0.0   \n",
              "...                  ...          ...             ...                    ...   \n",
              "199991               0.0          0.0             1.0                    0.0   \n",
              "199994               0.0          0.0             1.0                    0.0   \n",
              "199996               0.0          0.0             1.0                    0.0   \n",
              "199998               0.0          1.0             1.0                    0.0   \n",
              "199999               0.0          0.0             0.0                    0.0   \n",
              "\n",
              "        brand_alfa_romeo  ...  vehicletype_limousine  vehicletype_suv  \\\n",
              "3                      0  ...                      0                0   \n",
              "4                      0  ...                      0                0   \n",
              "5                      0  ...                      1                0   \n",
              "6                      0  ...                      0                0   \n",
              "10                     0  ...                      1                0   \n",
              "...                  ...  ...                    ...              ...   \n",
              "199991                 0  ...                      0                0   \n",
              "199994                 0  ...                      0                0   \n",
              "199996                 0  ...                      1                0   \n",
              "199998                 0  ...                      0                1   \n",
              "199999                 0  ...                      0                0   \n",
              "\n",
              "        fueltype_andere  fueltype_benzin  fueltype_cng  fueltype_diesel  \\\n",
              "3                     0                1             0                0   \n",
              "4                     0                0             0                1   \n",
              "5                     0                1             0                0   \n",
              "6                     0                1             0                0   \n",
              "10                    0                1             0                0   \n",
              "...                 ...              ...           ...              ...   \n",
              "199991                0                1             0                0   \n",
              "199994                0                1             0                0   \n",
              "199996                0                1             0                0   \n",
              "199998                0                0             0                1   \n",
              "199999                0                1             0                0   \n",
              "\n",
              "        fueltype_elektro  fueltype_hybrid  fueltype_lpg      weeks_to_sell  \n",
              "3                      0                0             0            3 weeks  \n",
              "4                      0                0             0             1 week  \n",
              "5                      0                0             0             1 week  \n",
              "6                      0                0             0             1 week  \n",
              "10                     0                0             0             1 week  \n",
              "...                  ...              ...           ...                ...  \n",
              "199991                 0                0             0             1 week  \n",
              "199994                 0                0             0            3 weeks  \n",
              "199996                 0                0             0  more than 4 weeks  \n",
              "199998                 0                0             0             1 week  \n",
              "199999                 0                0             0            2 weeks  \n",
              "\n",
              "[119159 rows x 65 columns]"
            ],
            "text/html": [
              "\n",
              "  <div id=\"df-955db550-edbf-4822-9d4b-c5676b8a7357\">\n",
              "    <div class=\"colab-df-container\">\n",
              "      <div>\n",
              "<style scoped>\n",
              "    .dataframe tbody tr th:only-of-type {\n",
              "        vertical-align: middle;\n",
              "    }\n",
              "\n",
              "    .dataframe tbody tr th {\n",
              "        vertical-align: top;\n",
              "    }\n",
              "\n",
              "    .dataframe thead th {\n",
              "        text-align: right;\n",
              "    }\n",
              "</style>\n",
              "<table border=\"1\" class=\"dataframe\">\n",
              "  <thead>\n",
              "    <tr style=\"text-align: right;\">\n",
              "      <th></th>\n",
              "      <th>price</th>\n",
              "      <th>yearofregistration</th>\n",
              "      <th>powerps</th>\n",
              "      <th>kilometer</th>\n",
              "      <th>seller_privat</th>\n",
              "      <th>offertype_Gesuch</th>\n",
              "      <th>abtest_test</th>\n",
              "      <th>gearbox_manual</th>\n",
              "      <th>notrepaireddamage_yes</th>\n",
              "      <th>brand_alfa_romeo</th>\n",
              "      <th>...</th>\n",
              "      <th>vehicletype_limousine</th>\n",
              "      <th>vehicletype_suv</th>\n",
              "      <th>fueltype_andere</th>\n",
              "      <th>fueltype_benzin</th>\n",
              "      <th>fueltype_cng</th>\n",
              "      <th>fueltype_diesel</th>\n",
              "      <th>fueltype_elektro</th>\n",
              "      <th>fueltype_hybrid</th>\n",
              "      <th>fueltype_lpg</th>\n",
              "      <th>weeks_to_sell</th>\n",
              "    </tr>\n",
              "  </thead>\n",
              "  <tbody>\n",
              "    <tr>\n",
              "      <th>3</th>\n",
              "      <td>1500.0</td>\n",
              "      <td>2001</td>\n",
              "      <td>75</td>\n",
              "      <td>150000</td>\n",
              "      <td>1.0</td>\n",
              "      <td>0.0</td>\n",
              "      <td>1.0</td>\n",
              "      <td>1.0</td>\n",
              "      <td>0.0</td>\n",
              "      <td>0</td>\n",
              "      <td>...</td>\n",
              "      <td>0</td>\n",
              "      <td>0</td>\n",
              "      <td>0</td>\n",
              "      <td>1</td>\n",
              "      <td>0</td>\n",
              "      <td>0</td>\n",
              "      <td>0</td>\n",
              "      <td>0</td>\n",
              "      <td>0</td>\n",
              "      <td>3 weeks</td>\n",
              "    </tr>\n",
              "    <tr>\n",
              "      <th>4</th>\n",
              "      <td>3600.0</td>\n",
              "      <td>2008</td>\n",
              "      <td>69</td>\n",
              "      <td>90000</td>\n",
              "      <td>1.0</td>\n",
              "      <td>0.0</td>\n",
              "      <td>1.0</td>\n",
              "      <td>1.0</td>\n",
              "      <td>0.0</td>\n",
              "      <td>0</td>\n",
              "      <td>...</td>\n",
              "      <td>0</td>\n",
              "      <td>0</td>\n",
              "      <td>0</td>\n",
              "      <td>0</td>\n",
              "      <td>0</td>\n",
              "      <td>1</td>\n",
              "      <td>0</td>\n",
              "      <td>0</td>\n",
              "      <td>0</td>\n",
              "      <td>1 week</td>\n",
              "    </tr>\n",
              "    <tr>\n",
              "      <th>5</th>\n",
              "      <td>650.0</td>\n",
              "      <td>1995</td>\n",
              "      <td>102</td>\n",
              "      <td>150000</td>\n",
              "      <td>1.0</td>\n",
              "      <td>0.0</td>\n",
              "      <td>1.0</td>\n",
              "      <td>1.0</td>\n",
              "      <td>1.0</td>\n",
              "      <td>0</td>\n",
              "      <td>...</td>\n",
              "      <td>1</td>\n",
              "      <td>0</td>\n",
              "      <td>0</td>\n",
              "      <td>1</td>\n",
              "      <td>0</td>\n",
              "      <td>0</td>\n",
              "      <td>0</td>\n",
              "      <td>0</td>\n",
              "      <td>0</td>\n",
              "      <td>1 week</td>\n",
              "    </tr>\n",
              "    <tr>\n",
              "      <th>6</th>\n",
              "      <td>2200.0</td>\n",
              "      <td>2004</td>\n",
              "      <td>109</td>\n",
              "      <td>150000</td>\n",
              "      <td>1.0</td>\n",
              "      <td>0.0</td>\n",
              "      <td>1.0</td>\n",
              "      <td>1.0</td>\n",
              "      <td>0.0</td>\n",
              "      <td>0</td>\n",
              "      <td>...</td>\n",
              "      <td>0</td>\n",
              "      <td>0</td>\n",
              "      <td>0</td>\n",
              "      <td>1</td>\n",
              "      <td>0</td>\n",
              "      <td>0</td>\n",
              "      <td>0</td>\n",
              "      <td>0</td>\n",
              "      <td>0</td>\n",
              "      <td>1 week</td>\n",
              "    </tr>\n",
              "    <tr>\n",
              "      <th>10</th>\n",
              "      <td>2000.0</td>\n",
              "      <td>2004</td>\n",
              "      <td>105</td>\n",
              "      <td>150000</td>\n",
              "      <td>1.0</td>\n",
              "      <td>0.0</td>\n",
              "      <td>0.0</td>\n",
              "      <td>1.0</td>\n",
              "      <td>0.0</td>\n",
              "      <td>0</td>\n",
              "      <td>...</td>\n",
              "      <td>1</td>\n",
              "      <td>0</td>\n",
              "      <td>0</td>\n",
              "      <td>1</td>\n",
              "      <td>0</td>\n",
              "      <td>0</td>\n",
              "      <td>0</td>\n",
              "      <td>0</td>\n",
              "      <td>0</td>\n",
              "      <td>1 week</td>\n",
              "    </tr>\n",
              "    <tr>\n",
              "      <th>...</th>\n",
              "      <td>...</td>\n",
              "      <td>...</td>\n",
              "      <td>...</td>\n",
              "      <td>...</td>\n",
              "      <td>...</td>\n",
              "      <td>...</td>\n",
              "      <td>...</td>\n",
              "      <td>...</td>\n",
              "      <td>...</td>\n",
              "      <td>...</td>\n",
              "      <td>...</td>\n",
              "      <td>...</td>\n",
              "      <td>...</td>\n",
              "      <td>...</td>\n",
              "      <td>...</td>\n",
              "      <td>...</td>\n",
              "      <td>...</td>\n",
              "      <td>...</td>\n",
              "      <td>...</td>\n",
              "      <td>...</td>\n",
              "      <td>...</td>\n",
              "    </tr>\n",
              "    <tr>\n",
              "      <th>199991</th>\n",
              "      <td>4900.0</td>\n",
              "      <td>1992</td>\n",
              "      <td>150</td>\n",
              "      <td>150000</td>\n",
              "      <td>1.0</td>\n",
              "      <td>0.0</td>\n",
              "      <td>0.0</td>\n",
              "      <td>1.0</td>\n",
              "      <td>0.0</td>\n",
              "      <td>0</td>\n",
              "      <td>...</td>\n",
              "      <td>0</td>\n",
              "      <td>0</td>\n",
              "      <td>0</td>\n",
              "      <td>1</td>\n",
              "      <td>0</td>\n",
              "      <td>0</td>\n",
              "      <td>0</td>\n",
              "      <td>0</td>\n",
              "      <td>0</td>\n",
              "      <td>1 week</td>\n",
              "    </tr>\n",
              "    <tr>\n",
              "      <th>199994</th>\n",
              "      <td>2199.0</td>\n",
              "      <td>2001</td>\n",
              "      <td>50</td>\n",
              "      <td>150000</td>\n",
              "      <td>1.0</td>\n",
              "      <td>0.0</td>\n",
              "      <td>0.0</td>\n",
              "      <td>1.0</td>\n",
              "      <td>0.0</td>\n",
              "      <td>0</td>\n",
              "      <td>...</td>\n",
              "      <td>0</td>\n",
              "      <td>0</td>\n",
              "      <td>0</td>\n",
              "      <td>1</td>\n",
              "      <td>0</td>\n",
              "      <td>0</td>\n",
              "      <td>0</td>\n",
              "      <td>0</td>\n",
              "      <td>0</td>\n",
              "      <td>3 weeks</td>\n",
              "    </tr>\n",
              "    <tr>\n",
              "      <th>199996</th>\n",
              "      <td>600.0</td>\n",
              "      <td>1998</td>\n",
              "      <td>116</td>\n",
              "      <td>150000</td>\n",
              "      <td>1.0</td>\n",
              "      <td>0.0</td>\n",
              "      <td>0.0</td>\n",
              "      <td>1.0</td>\n",
              "      <td>0.0</td>\n",
              "      <td>0</td>\n",
              "      <td>...</td>\n",
              "      <td>1</td>\n",
              "      <td>0</td>\n",
              "      <td>0</td>\n",
              "      <td>1</td>\n",
              "      <td>0</td>\n",
              "      <td>0</td>\n",
              "      <td>0</td>\n",
              "      <td>0</td>\n",
              "      <td>0</td>\n",
              "      <td>more than 4 weeks</td>\n",
              "    </tr>\n",
              "    <tr>\n",
              "      <th>199998</th>\n",
              "      <td>11400.0</td>\n",
              "      <td>2012</td>\n",
              "      <td>110</td>\n",
              "      <td>125000</td>\n",
              "      <td>1.0</td>\n",
              "      <td>0.0</td>\n",
              "      <td>1.0</td>\n",
              "      <td>1.0</td>\n",
              "      <td>0.0</td>\n",
              "      <td>0</td>\n",
              "      <td>...</td>\n",
              "      <td>0</td>\n",
              "      <td>1</td>\n",
              "      <td>0</td>\n",
              "      <td>0</td>\n",
              "      <td>0</td>\n",
              "      <td>1</td>\n",
              "      <td>0</td>\n",
              "      <td>0</td>\n",
              "      <td>0</td>\n",
              "      <td>1 week</td>\n",
              "    </tr>\n",
              "    <tr>\n",
              "      <th>199999</th>\n",
              "      <td>1600.0</td>\n",
              "      <td>1998</td>\n",
              "      <td>101</td>\n",
              "      <td>150000</td>\n",
              "      <td>1.0</td>\n",
              "      <td>0.0</td>\n",
              "      <td>0.0</td>\n",
              "      <td>0.0</td>\n",
              "      <td>0.0</td>\n",
              "      <td>0</td>\n",
              "      <td>...</td>\n",
              "      <td>0</td>\n",
              "      <td>0</td>\n",
              "      <td>0</td>\n",
              "      <td>1</td>\n",
              "      <td>0</td>\n",
              "      <td>0</td>\n",
              "      <td>0</td>\n",
              "      <td>0</td>\n",
              "      <td>0</td>\n",
              "      <td>2 weeks</td>\n",
              "    </tr>\n",
              "  </tbody>\n",
              "</table>\n",
              "<p>119159 rows × 65 columns</p>\n",
              "</div>\n",
              "      <button class=\"colab-df-convert\" onclick=\"convertToInteractive('df-955db550-edbf-4822-9d4b-c5676b8a7357')\"\n",
              "              title=\"Convert this dataframe to an interactive table.\"\n",
              "              style=\"display:none;\">\n",
              "        \n",
              "  <svg xmlns=\"http://www.w3.org/2000/svg\" height=\"24px\"viewBox=\"0 0 24 24\"\n",
              "       width=\"24px\">\n",
              "    <path d=\"M0 0h24v24H0V0z\" fill=\"none\"/>\n",
              "    <path d=\"M18.56 5.44l.94 2.06.94-2.06 2.06-.94-2.06-.94-.94-2.06-.94 2.06-2.06.94zm-11 1L8.5 8.5l.94-2.06 2.06-.94-2.06-.94L8.5 2.5l-.94 2.06-2.06.94zm10 10l.94 2.06.94-2.06 2.06-.94-2.06-.94-.94-2.06-.94 2.06-2.06.94z\"/><path d=\"M17.41 7.96l-1.37-1.37c-.4-.4-.92-.59-1.43-.59-.52 0-1.04.2-1.43.59L10.3 9.45l-7.72 7.72c-.78.78-.78 2.05 0 2.83L4 21.41c.39.39.9.59 1.41.59.51 0 1.02-.2 1.41-.59l7.78-7.78 2.81-2.81c.8-.78.8-2.07 0-2.86zM5.41 20L4 18.59l7.72-7.72 1.47 1.35L5.41 20z\"/>\n",
              "  </svg>\n",
              "      </button>\n",
              "      \n",
              "  <style>\n",
              "    .colab-df-container {\n",
              "      display:flex;\n",
              "      flex-wrap:wrap;\n",
              "      gap: 12px;\n",
              "    }\n",
              "\n",
              "    .colab-df-convert {\n",
              "      background-color: #E8F0FE;\n",
              "      border: none;\n",
              "      border-radius: 50%;\n",
              "      cursor: pointer;\n",
              "      display: none;\n",
              "      fill: #1967D2;\n",
              "      height: 32px;\n",
              "      padding: 0 0 0 0;\n",
              "      width: 32px;\n",
              "    }\n",
              "\n",
              "    .colab-df-convert:hover {\n",
              "      background-color: #E2EBFA;\n",
              "      box-shadow: 0px 1px 2px rgba(60, 64, 67, 0.3), 0px 1px 3px 1px rgba(60, 64, 67, 0.15);\n",
              "      fill: #174EA6;\n",
              "    }\n",
              "\n",
              "    [theme=dark] .colab-df-convert {\n",
              "      background-color: #3B4455;\n",
              "      fill: #D2E3FC;\n",
              "    }\n",
              "\n",
              "    [theme=dark] .colab-df-convert:hover {\n",
              "      background-color: #434B5C;\n",
              "      box-shadow: 0px 1px 3px 1px rgba(0, 0, 0, 0.15);\n",
              "      filter: drop-shadow(0px 1px 2px rgba(0, 0, 0, 0.3));\n",
              "      fill: #FFFFFF;\n",
              "    }\n",
              "  </style>\n",
              "\n",
              "      <script>\n",
              "        const buttonEl =\n",
              "          document.querySelector('#df-955db550-edbf-4822-9d4b-c5676b8a7357 button.colab-df-convert');\n",
              "        buttonEl.style.display =\n",
              "          google.colab.kernel.accessAllowed ? 'block' : 'none';\n",
              "\n",
              "        async function convertToInteractive(key) {\n",
              "          const element = document.querySelector('#df-955db550-edbf-4822-9d4b-c5676b8a7357');\n",
              "          const dataTable =\n",
              "            await google.colab.kernel.invokeFunction('convertToInteractive',\n",
              "                                                     [key], {});\n",
              "          if (!dataTable) return;\n",
              "\n",
              "          const docLinkHtml = 'Like what you see? Visit the ' +\n",
              "            '<a target=\"_blank\" href=https://colab.research.google.com/notebooks/data_table.ipynb>data table notebook</a>'\n",
              "            + ' to learn more about interactive tables.';\n",
              "          element.innerHTML = '';\n",
              "          dataTable['output_type'] = 'display_data';\n",
              "          await google.colab.output.renderOutput(dataTable, element);\n",
              "          const docLink = document.createElement('div');\n",
              "          docLink.innerHTML = docLinkHtml;\n",
              "          element.appendChild(docLink);\n",
              "        }\n",
              "      </script>\n",
              "    </div>\n",
              "  </div>\n",
              "  "
            ]
          },
          "metadata": {},
          "execution_count": 26
        }
      ]
    },
    {
      "cell_type": "markdown",
      "source": [
        "### d) Data partitioning"
      ],
      "metadata": {
        "id": "nDmNsREJiG4S"
      },
      "id": "nDmNsREJiG4S"
    },
    {
      "cell_type": "code",
      "source": [
        "target = df2.weeks_to_sell\n",
        "features = df2.drop('weeks_to_sell', axis=1)\n",
        "\n",
        "X_train, X_test, y_train, y_test = train_test_split(features, target, test_size=0.20, random_state=123)"
      ],
      "metadata": {
        "id": "Hhp2rVnbQeBe"
      },
      "id": "Hhp2rVnbQeBe",
      "execution_count": null,
      "outputs": []
    },
    {
      "cell_type": "markdown",
      "source": [
        "### e) Imbalanced data resolution\n",
        "We use the SMOTE- NC function to upsampling the categorioes with minor data. This method create synthetic data to upsample."
      ],
      "metadata": {
        "id": "4fhGonOoifR8"
      },
      "id": "4fhGonOoifR8"
    },
    {
      "cell_type": "code",
      "source": [
        "pd.Series(y_train).value_counts().plot(kind='bar', title='Class distribution before appying SMOTE', xlabel='weeks_to_sell')"
      ],
      "metadata": {
        "colab": {
          "base_uri": "https://localhost:8080/",
          "height": 399
        },
        "id": "af2SATrFwN0j",
        "outputId": "84e873d4-e522-4361-981e-74dca7da18a8"
      },
      "id": "af2SATrFwN0j",
      "execution_count": null,
      "outputs": [
        {
          "output_type": "execute_result",
          "data": {
            "text/plain": [
              "<matplotlib.axes._subplots.AxesSubplot at 0x7f9cf2d483d0>"
            ]
          },
          "metadata": {},
          "execution_count": 28
        },
        {
          "output_type": "display_data",
          "data": {
            "text/plain": [
              "<Figure size 432x288 with 1 Axes>"
            ],
            "image/png": "[encoded data removed]"
          },
          "metadata": {
            "needs_background": "light"
          }
        }
      ]
    },
    {
      "cell_type": "code",
      "source": [
        "#Import the SMOTE-NC\n",
        "from imblearn.over_sampling import SMOTENC\n",
        "#Create the oversampler. \n",
        "smotenc = SMOTENC([*range(4,64)], random_state = 123)\n",
        "\n",
        "X_train, y_train = smotenc.fit_resample(X_train, y_train)"
      ],
      "metadata": {
        "id": "6Matl0bwyY7L"
      },
      "id": "6Matl0bwyY7L",
      "execution_count": null,
      "outputs": []
    },
    {
      "cell_type": "markdown",
      "source": [
        "After aplying the SMOTE-NC function for upsampling, we found we have a balanced data."
      ],
      "metadata": {
        "id": "wWL2Jl9zne6P"
      },
      "id": "wWL2Jl9zne6P"
    },
    {
      "cell_type": "code",
      "source": [
        "pd.Series(y_train).value_counts().plot(kind='bar', title='Class distribution before appying SMOTE', xlabel='weeks_to_sell')"
      ],
      "metadata": {
        "colab": {
          "base_uri": "https://localhost:8080/",
          "height": 399
        },
        "id": "reifsiM8nP-3",
        "outputId": "e8a5a5c2-2e79-4fd4-8177-3805de27b7a5"
      },
      "id": "reifsiM8nP-3",
      "execution_count": null,
      "outputs": [
        {
          "output_type": "execute_result",
          "data": {
            "text/plain": [
              "<matplotlib.axes._subplots.AxesSubplot at 0x7f9cf5811bd0>"
            ]
          },
          "metadata": {},
          "execution_count": 31
        },
        {
          "output_type": "display_data",
          "data": {
            "text/plain": [
              "<Figure size 432x288 with 1 Axes>"
            ],
            "image/png": "[encoded data removed]"
          },
          "metadata": {
            "needs_background": "light"
          }
        }
      ]
    },
    {
      "cell_type": "markdown",
      "source": [
        "### f) Data transformation: Scaling numerical features"
      ],
      "metadata": {
        "id": "Zo8UU3DCnxaC"
      },
      "id": "Zo8UU3DCnxaC"
    },
    {
      "cell_type": "code",
      "source": [
        "scaler = StandardScaler()\n",
        "scaler.fit(X_train)\n",
        "\n",
        "X_train = scaler.transform(X_train)\n",
        "X_test = scaler.transform(X_test)"
      ],
      "metadata": {
        "id": "1nwvi4vRREHj"
      },
      "id": "1nwvi4vRREHj",
      "execution_count": null,
      "outputs": []
    },
    {
      "cell_type": "markdown",
      "source": [
        "## **V. Model selection and Comparison**"
      ],
      "metadata": {
        "id": "httMtpEgoKCz"
      },
      "id": "httMtpEgoKCz"
    },
    {
      "cell_type": "markdown",
      "source": [
        "### a) Random Forest"
      ],
      "metadata": {
        "id": "krkbDFxToXO7"
      },
      "id": "krkbDFxToXO7"
    },
    {
      "cell_type": "code",
      "source": [
        "# RandomForest instance creation\n",
        "clf1 = RandomForestClassifier(random_state=123)\n",
        "clf1.fit(X_train, y_train)\n",
        "\n",
        "#score computing\n",
        "clf1.score(X_test, y_test)\n"
      ],
      "metadata": {
        "colab": {
          "base_uri": "https://localhost:8080/"
        },
        "id": "tmydgW3cRtYp",
        "outputId": "f48fe832-c18c-4110-80bc-7917f33b84ce"
      },
      "id": "tmydgW3cRtYp",
      "execution_count": null,
      "outputs": [
        {
          "output_type": "execute_result",
          "data": {
            "text/plain": [
              "0.4059248069822088"
            ]
          },
          "metadata": {},
          "execution_count": 33
        }
      ]
    },
    {
      "cell_type": "code",
      "source": [
        "y_pred = clf1.predict(X_test)\n",
        "print(classification_report(y_test, y_pred, target_names = ['1 week', '2 weeks', '3 weeks', '4 weeks', ' more than 4 weeks']))"
      ],
      "metadata": {
        "colab": {
          "base_uri": "https://localhost:8080/"
        },
        "id": "7q673JqlqEGq",
        "outputId": "d8719662-6834-43c0-c474-fc97112a0e22"
      },
      "id": "7q673JqlqEGq",
      "execution_count": null,
      "outputs": [
        {
          "output_type": "stream",
          "name": "stdout",
          "text": [
            "                    precision    recall  f1-score   support\n",
            "\n",
            "            1 week       0.61      0.59      0.60     13257\n",
            "           2 weeks       0.19      0.20      0.19      3633\n",
            "           3 weeks       0.20      0.19      0.19      3576\n",
            "           4 weeks       0.16      0.17      0.16      2604\n",
            " more than 4 weeks       0.06      0.10      0.08       762\n",
            "\n",
            "          accuracy                           0.41     23832\n",
            "         macro avg       0.24      0.25      0.25     23832\n",
            "      weighted avg       0.42      0.41      0.41     23832\n",
            "\n"
          ]
        }
      ]
    },
    {
      "cell_type": "markdown",
      "source": [
        "### b) XG Bosst"
      ],
      "metadata": {
        "id": "ZI0uTvCiqltm"
      },
      "id": "ZI0uTvCiqltm"
    },
    {
      "cell_type": "code",
      "source": [
        "# XGBoost instance creation\n",
        "clf2 = xgb.XGBClassifier(random_state=123)\n",
        "clf2.fit(X_train, y_train)\n",
        "\n",
        "#score computing\n",
        "clf2.score(X_test, y_test)"
      ],
      "metadata": {
        "colab": {
          "base_uri": "https://localhost:8080/"
        },
        "id": "aBoUc6lYqq98",
        "outputId": "06775481-2af9-4a26-c877-78e6cab3b98d"
      },
      "id": "aBoUc6lYqq98",
      "execution_count": null,
      "outputs": [
        {
          "output_type": "execute_result",
          "data": {
            "text/plain": [
              "0.3261581067472306"
            ]
          },
          "metadata": {},
          "execution_count": 95
        }
      ]
    },
    {
      "cell_type": "code",
      "source": [
        "y_pred = clf2.predict(X_test)\n",
        "print(classification_report(y_test, y_pred, target_names = ['1 week', '2 weeks', '3 weeks', '4 weeks', ' more than 4 weeks']))"
      ],
      "metadata": {
        "colab": {
          "base_uri": "https://localhost:8080/"
        },
        "id": "V54cFCMxrfjl",
        "outputId": "253a38a0-4505-4066-fd74-13578ceba149"
      },
      "id": "V54cFCMxrfjl",
      "execution_count": null,
      "outputs": [
        {
          "output_type": "stream",
          "name": "stdout",
          "text": [
            "                    precision    recall  f1-score   support\n",
            "\n",
            "            1 week       0.63      0.50      0.55     13257\n",
            "           2 weeks       0.17      0.06      0.09      3633\n",
            "           3 weeks       0.17      0.05      0.08      3576\n",
            "           4 weeks       0.14      0.17      0.15      2604\n",
            " more than 4 weeks       0.04      0.41      0.08       762\n",
            "\n",
            "          accuracy                           0.33     23832\n",
            "         macro avg       0.23      0.24      0.19     23832\n",
            "      weighted avg       0.42      0.33      0.35     23832\n",
            "\n"
          ]
        }
      ]
    },
    {
      "cell_type": "markdown",
      "source": [
        "### c) Multi-layer Perceptron"
      ],
      "metadata": {
        "id": "8tSxCzEysjvf"
      },
      "id": "8tSxCzEysjvf"
    },
    {
      "cell_type": "code",
      "source": [
        "clf3 = MLPClassifier(max_iter=1500)\n",
        "clf3.fit(X_train, y_train)\n",
        "\n",
        "#score computing\n",
        "clf3.score(X_test, y_test)"
      ],
      "metadata": {
        "colab": {
          "base_uri": "https://localhost:8080/"
        },
        "id": "sal_21aNswzB",
        "outputId": "828ec1a9-d33d-4a96-bb5e-60a15742f1bc"
      },
      "id": "sal_21aNswzB",
      "execution_count": null,
      "outputs": [
        {
          "output_type": "execute_result",
          "data": {
            "text/plain": [
              "0.2973732796240349"
            ]
          },
          "metadata": {},
          "execution_count": 99
        }
      ]
    },
    {
      "cell_type": "code",
      "source": [
        "y_pred = clf3.predict(X_test)\n",
        "print(classification_report(y_test, y_pred, target_names = ['1 week', '2 weeks', '3 weeks', '4 weeks', ' more than 4 weeks']))"
      ],
      "metadata": {
        "colab": {
          "base_uri": "https://localhost:8080/"
        },
        "id": "VNrVjNfqs3hb",
        "outputId": "9ad68fe0-7a90-4d8b-94bc-c657f5be429a"
      },
      "id": "VNrVjNfqs3hb",
      "execution_count": null,
      "outputs": [
        {
          "output_type": "stream",
          "name": "stdout",
          "text": [
            "                    precision    recall  f1-score   support\n",
            "\n",
            "            1 week       0.65      0.39      0.49     13257\n",
            "           2 weeks       0.17      0.14      0.15      3633\n",
            "           3 weeks       0.16      0.17      0.16      3576\n",
            "           4 weeks       0.13      0.21      0.16      2604\n",
            " more than 4 weeks       0.04      0.27      0.07       762\n",
            "\n",
            "          accuracy                           0.30     23832\n",
            "         macro avg       0.23      0.24      0.21     23832\n",
            "      weighted avg       0.43      0.30      0.34     23832\n",
            "\n"
          ]
        }
      ]
    },
    {
      "cell_type": "markdown",
      "source": [
        "## **VI. Selected Model Evaluation and Conclusion**"
      ],
      "metadata": {
        "id": "BWpj_uTQuNrL"
      },
      "id": "BWpj_uTQuNrL"
    },
    {
      "cell_type": "markdown",
      "source": [
        "We visualize the confusion matrix from the Random Forest model we selected."
      ],
      "metadata": {
        "id": "00j0W1X-uktj"
      },
      "id": "00j0W1X-uktj"
    },
    {
      "cell_type": "code",
      "source": [
        "plt.figure(figsize=(0.05,0.07))\n",
        "ConfusionMatrixDisplay.from_predictions(y_test, y_pred)"
      ],
      "metadata": {
        "colab": {
          "base_uri": "https://localhost:8080/",
          "height": 314
        },
        "id": "QQ4bN70cWYrX",
        "outputId": "b1613109-c8bf-440b-a4a9-17b469236cdb"
      },
      "id": "QQ4bN70cWYrX",
      "execution_count": null,
      "outputs": [
        {
          "output_type": "execute_result",
          "data": {
            "text/plain": [
              "<sklearn.metrics._plot.confusion_matrix.ConfusionMatrixDisplay at 0x7f9ceba1a250>"
            ]
          },
          "metadata": {},
          "execution_count": 37
        },
        {
          "output_type": "display_data",
          "data": {
            "text/plain": [
              "<Figure size 3.6x5.04 with 0 Axes>"
            ]
          },
          "metadata": {}
        },
        {
          "output_type": "display_data",
          "data": {
            "text/plain": [
              "<Figure size 432x288 with 2 Axes>"
            ],
            "image/png": "[encoded data removed]"
          },
          "metadata": {
            "needs_background": "light"
          }
        }
      ]
    },
    {
      "cell_type": "markdown",
      "source": [
        "We checked and compare the accuracy and the recall metrics to verify which model would be better for this specific problem. As the metrics from the Random Forest model show better recall and better accuracy overall, we decide to take this model as the best fit for this solution. \n",
        "\n",
        "Although there are so deficiencies in detecting if a car will be sold after 2 weeks, we can see that has a better performance at predicting if a car will be sold within the first week. "
      ],
      "metadata": {
        "id": "OYCz6GfvvuxY"
      },
      "id": "OYCz6GfvvuxY"
    },
    {
      "cell_type": "code",
      "source": [
        ""
      ],
      "metadata": {
        "id": "U29-rLRMwcUk"
      },
      "id": "U29-rLRMwcUk",
      "execution_count": null,
      "outputs": []
    }
  ],
  "metadata": {
    "kernelspec": {
      "display_name": "Python 3",
      "language": "python",
      "name": "python3"
    },
    "language_info": {
      "codemirror_mode": {
        "name": "ipython",
        "version": 3
      },
      "file_extension": ".py",
      "mimetype": "text/x-python",
      "name": "python",
      "nbconvert_exporter": "python",
      "pygments_lexer": "ipython3",
      "version": "3.8.8"
    },
    "colab": {
      "name": "AutomotivePredictiveModel_FINAL.ipynb",
      "provenance": [],
      "collapsed_sections": [
        "74c7fxzbMIhP",
        "VqeTfSUTMST0"
      ]
    }
  },
  "nbformat": 4,
  "nbformat_minor": 5
}